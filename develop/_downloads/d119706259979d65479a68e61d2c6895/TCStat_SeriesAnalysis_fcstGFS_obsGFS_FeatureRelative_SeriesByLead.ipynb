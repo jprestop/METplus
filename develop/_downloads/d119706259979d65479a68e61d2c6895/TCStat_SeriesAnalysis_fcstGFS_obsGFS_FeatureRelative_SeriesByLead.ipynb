{
  "cells": [
    {
      "cell_type": "code",
      "execution_count": null,
      "metadata": {
        "collapsed": false
      },
      "outputs": [],
      "source": [
        "%matplotlib inline"
      ]
    },
    {
      "cell_type": "markdown",
      "metadata": {},
      "source": [
        "\n# Multi_Tool: Feature Relative by Lead (with lead groupings) \n\nmodel_applicaitons/medium_range/\nTCStat_SeriesAnalysis_fcstGFS\n_obsGFS_FeatureRelative\n_SeriesByLead.conf\n\n\n"
      ]
    },
    {
      "cell_type": "markdown",
      "metadata": {},
      "source": [
        "## Scientific Objective\n\nBy maintaining focus of each evaluation time (or evaluation time series, in this case)\non a user-defined area around a cyclone, the model statistical errors associated\nwith cyclonic physical features (moisture flux, stability, strength of upper-level\nPV anomaly and jet, etc.) can be related directly to the model forecasts and provide\nimprovement guidance by accurately depicting interactions with significant weather\nfeatures around and within the cyclone. This is in contrast to the traditional\nmethod of regional averaging cyclone observations in a fixed grid, which\n\"smooths out\" system features and limits the meaningful metrics that can be gathered.\nSpecifically, this use case creates bins of forecast lead times as specified by the\ngiven ranges which provides additional insight directly into forecast lead time accuracy.\n\n"
      ]
    },
    {
      "cell_type": "markdown",
      "metadata": {},
      "source": [
        "## Datasets\n\nRelevant information about the datasets that would be beneficial include:\n\n * TC-Pairs/TC-Stat Forecast dataset: ADeck modified-ATCF tropical cyclone data\n * Series-Analysis Forecast dataset: GFS\n * TC-Pairs/TC-Stat Observation  dataset: BDeck modified-ATCF tropical cyclone data\n * Series-Analysis Observation dataset: GFS Analysis\n\n\n"
      ]
    },
    {
      "cell_type": "markdown",
      "metadata": {},
      "source": [
        "## METplus Components\n\nThis use case first runs TCPairs and ExtractTiles wrappers to generate matched\ntropical cyclone data and regrid them into appropriately-sized tiles\nalong a storm track. The MET tc-stat tool is used to filter the\ntrack data, and the MET regrid-dataplane tool is used to regrid the\ndata (GRIB1 or GRIB2 into netCDF). Next, a series analysis by lead time is\nperformed on the results and plots (.ps and .png) are generated for all\nvariable-level-stat combinations from the specified variables, levels, and\nrequested statistics. The final results are aggregated into forecast hour\ngroupings as specified by the start, end and increment in the METplus\nconfiguration file, as well as labels to identify each forecast hour grouping.\n\n"
      ]
    },
    {
      "cell_type": "markdown",
      "metadata": {},
      "source": [
        "## METplus Workflow\n\nThe following tools are used for each run time:\n\nTCPairs > RegridDataPlane, TCStat > SeriesAnalysis\n\nThis example loops by forecast/lead time (with begin, end, and increment as specified in the METplus\nTCStat_SeriesAnalysis_fcstGFS_obsGFS_FeatureRelative_SeriesByLead.conf file).\nThe following will be run based on the availability of data corresponding to the initialization time\n(in this example, we only have 20141214 as our initialization time) and the requested forecast leads, resulting\nin the run times below.\n\nRun times:\n\n| **Init:** 20141214_0Z\n| **Forecast lead:** 6, 12, 18, 24, 30, 36, 42\n\n\n"
      ]
    },
    {
      "cell_type": "markdown",
      "metadata": {},
      "source": [
        "## METplus Configuration\n\nMETplus first loads all of the configuration files found in parm/metplus_config,\nthen it loads any configuration files passed to METplus via the command line\nwith the -c option, i.e. -c parm/use_cases/model_applications/medium_range/TCStat_SeriesAnalysis_fcstGFS_obsGFS_FeatureRelative_SeriesByLead.conf\n\n.. highlight:: bash\n.. literalinclude:: ../../../../parm/use_cases/model_applications/medium_range/TCStat_SeriesAnalysis_fcstGFS_obsGFS_FeatureRelative_SeriesByLead.conf\n\n"
      ]
    },
    {
      "cell_type": "markdown",
      "metadata": {},
      "source": [
        "## MET Configuration\n\nMETplus sets environment variables based on the values in the METplus configuration file.\nThese variables are referenced in the MET configuration file. **YOU SHOULD NOT SET ANY OF THESE ENVIRONMENT VARIABLES YOURSELF! THEY WILL BE OVERWRITTEN BY METPLUS WHEN IT CALLS THE MET TOOLS!** If there is a setting in the MET configuration file that is not controlled by an environment variable, you can add additional environment variables to be set only within the METplus environment using the [user_env_vars] section of the METplus configuration files. See the 'User Defined Config' section on the 'System Configuration' page of the METplus User's Guide for more information.\n\n.. highlight:: bash\n.. literalinclude:: ../../../../parm/use_cases/model_applications/medium_range/TCPairsETCConfig\n.. literalinclude:: ../../../../parm/use_cases/model_applications/medium_range/TCStatConfig\n.. literalinclude:: ../../../../parm/use_cases/model_applications/medium_range/SeriesAnalysisConfig\n\nSee the following files for more information about the environment variables set in these configuration files.\n\nparm/use_cases/met_tool_wrapper/TCPairs/TCPairs.py\n\n\n"
      ]
    },
    {
      "cell_type": "markdown",
      "metadata": {},
      "source": [
        "## Running METplus\n\nThis use case can be run two ways:\n\n1) Passing in TCStat_SeriesAnalysis_fcstGFS_obsGFS_FeatureRelative_SeriesByLead.conf, then a user-specific system configuration file::\n\n       master_metplus.py -c /path/to/METplus/parm/use_cases/model_applications/medium_range/TCStat_SeriesAnalysis_fcstGFS_obsGFS_FeatureRelative_SeriesByLead.conf\n       -c /path/to/user_system.conf\n\n2) Modifying the configurations in parm/metplus_config, then passing in TCStat_SeriesAnalysis_fcstGFS_obsGFS_FeatureRelative_SeriesByLead.conf::\n\n       master_metplus.py -c /path/to/METplus/parm/use_cases/model_applications/medium_range/TCStat_SeriesAnalysis_fcstGFS_obsGFS_FeatureRelative_SeriesByLead.conf\n\nThe former method is recommended. Whether you add them to a user-specific configuration file or modify the metplus_config files, the following variables must be set correctly:\n\n* **INPUT_BASE** - Path to directory where sample data tarballs are unpacked (See Datasets section to obtain tarballs). This is not required to run METplus, but it is required to run the examples in parm/use_cases\n* **OUTPUT_BASE** - Path where METplus output will be written. This must be in a location where you have write permissions\n* **MET_INSTALL_DIR** - Path to location where MET is installed locally\n\n and for the [exe] section, you will need to define the location of\n NON-MET executables.  If the executable is in the user's path, METplus will find it from\n the name. If the executable is not in the path, specify the full\n path to the executable here (i.e. RM = /bin/rm)  The following executables are required\n for performing series analysis use cases:\n\n If the executables are in the path:\n\n* **RM = rm**\n* **CUT = cut**\n* **TR = tr**\n* **NCAP2 = ncap2**\n* **CONVERT = convert**\n* **NCDUMP = ncdump**\n\n**NOTE:** All of these executable items must be located under the [exe] section.\n\n\nIf the executables are not in the path, they need to be defined:\n\n* **RM = /path/to/rm**\n* **CUT = /path/to/cut**\n* **TR = /path/to/tr**\n* **NCAP2 = /path/to/ncap2**\n* **CONVERT = /path/to/convert**\n* **NCDUMP= /path/to/ncdump**\n\n**NOTE:** All of these executable items must be located under the [exe] section.\nExample User Configuration File::\n\n  [dir]\n  INPUT_BASE = /path/to/sample/input/data\n  OUTPUT_BASE = /path/to/output/dir\n  MET_INSTALL_DIR = /path/to/met-X.Y\n\n  [exe]\n  RM = /path/to/rm\n  CUT = /path/to/cut\n  TR = /path/to/tr\n  NCAP2 = /path/to/ncap2\n  CONVERT = /path/to/convert\n  NCDUMP = /path/to/ncdump\n\n**NOTE:** The INPUT_BASE, OUTPUT_BASE, and MET_INSTALL_DIR must be located under the [dir] section, while the RM, CUT, TR, NCAP2, CONVERT, and NCDUMP must be located under the [exe] section.\n\n"
      ]
    },
    {
      "cell_type": "markdown",
      "metadata": {},
      "source": [
        "## Expected Output\n\nA successful run will output the following both to the screen and to the logfile::\n\n  INFO: METplus has successfully finished running.\n\nRefer to the value set for **OUTPUT_BASE** to find where the output data was generated.\nOutput for this use case will be found in series_analysis_lead, relative to the **OUTPUT_BASE**, and in the following directories (relative to **OUTPUT_BASE**):\n\n* Day1\n* Day2\n* series_animate\n\nThe *Day1* subdirectory will contain files that have the following format:\n\n  ANLY_FILES_Fhhh_to_FHHH\n\n  FCST_ASCII_FILES_Fhhh_to_FHHH\n\n  series_<varname>_<level>_<stat>.png\n\n  series_<varname>_<level>_<stat>.ps\n\n  series_<varname>_<level>_<stat>.nc\n\n  Where:\n\n   **hhh** is the starting forecast hour/lead time in hours\n\n   **HHH** is the ending forecast hour/lead time in hours\n\n   **varname** is the variable of interest, as specified in the METplus series_by_lead_all_fhrs config file\n\n   **level**  is the level of interest, as specified in the METplus series_by_lead_all_fhrs config file\n\n   **stat** is the statistic of interest, as specified in the METplus series_by_lead_all_fhrs config file.\n\nThe *Day2* subdirectory will contain files that have the same formatting as *Day1*, but for those forecast hours within 24 to 42 hours.\n\n| The series_animate directory contains the animations of the series analysis in .gif format for all variable, level, and statistics combinations:\n\n   series_animate_<varname>_<level>_<stat>.gif\n\n"
      ]
    },
    {
      "cell_type": "markdown",
      "metadata": {},
      "source": [
        "## Keywords\n\n<div class=\"alert alert-info\"><h4>Note</h4><p></p></div>\n `TCPairsToolUseCase <https://dtcenter.github.io/METplus/search.html?q=TCPairsToolUseCase&check_keywords=yes&area=default>`_,\n `SeriesByLeadUseCase <https://dtcenter.github.io/METplus/search.html?q=SeriesByLeadUseCase&check_keywords=yes&area=default>`_,\n `TCStatToolUseCase <https://dtcenter.github.io/METplus/search.html?q=TCStatToolUseCase&check_keywords=yes&area=default>`_,\n `RegridDataPlaneToolUseCase <https://dtcenter.github.io/METplus/search.html?q=RegridDataPlaneToolUseCase&check_keywords=yes&area=default>`_,\n `MediumRangeAppUseCase <https://dtcenter.github.io/METplus/search.html?q=MediumRangeAppUseCase&check_keywords=yes&area=default>`_,\n `SeriesAnalysisUseCase <https://dtcenter.github.io/METplus/search.html?q=SeriesAnalysisUseCase&check_keywords=yes&area=default>`_,\n `GRIB2FileUseCase <https://dtcenter.github.io/METplus/search.html?q=GRIB2FileUseCase&check_keywords=yes&area=default>`_,\n `FeatureRelativeUseCase <https://dtcenter.github.io/METplus/search.html?q=FeatureRelativeUseCase&check_keywords=yes&area=default>`_,\n `SBUOrgUseCase <https://dtcenter.github.io/METplus/search.html?q=SBUOrgUseCase&check_keywords=yes&area=default>`_\n `DiagnosticsUseCase <https://dtcenter.github.io/METplus/search.html?q=DiagnosticsUseCase&check_keywords=yes&area=default>`_\n\nsphinx_gallery_thumbnail_path = '_static/medium_range-TCStat_SeriesAnalysis_fcstGFS_obsGFS_FeatureRelative_SeriesByLead.png'\n\n"
      ]
    }
  ],
  "metadata": {
    "kernelspec": {
      "display_name": "Python 3",
      "language": "python",
      "name": "python3"
    },
    "language_info": {
      "codemirror_mode": {
        "name": "ipython",
        "version": 3
      },
      "file_extension": ".py",
      "mimetype": "text/x-python",
      "name": "python",
      "nbconvert_exporter": "python",
      "pygments_lexer": "ipython3",
      "version": "3.6.3"
    }
  },
  "nbformat": 4,
  "nbformat_minor": 0
}