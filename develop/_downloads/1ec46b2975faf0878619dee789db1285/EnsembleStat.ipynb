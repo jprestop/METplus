{
  "cells": [
    {
      "cell_type": "code",
      "execution_count": null,
      "metadata": {
        "collapsed": false
      },
      "outputs": [],
      "source": [
        "%matplotlib inline"
      ]
    },
    {
      "cell_type": "markdown",
      "metadata": {},
      "source": [
        "\n# EnsembleStat: Basic Use Case\n\nmet_tool_wrapper/EnsembleStat/EnsembleStat.conf\n\n\n"
      ]
    },
    {
      "cell_type": "markdown",
      "metadata": {},
      "source": [
        "## Scientific Objective\n\nTo provide useful statistical information on the relationship between\nobservation data (in both grid and point formats) to an ensemble forecast.\nThese values can be used to help correct ensemble member deviations from observed values.\n\n"
      ]
    },
    {
      "cell_type": "markdown",
      "metadata": {},
      "source": [
        "## Datasets\n\n\n| **Forecast:** WRF ARW 24 hour precipitation accumulation\n|     ...met_test/data/sample_fcst/2009123112/\n|         arw-fer-gep1/d01_2009123112_02400.grib\n|         arw-fer-gep5/d01_2009123112_02400.grib\n|         arw-sch-gep2/d01_2009123112_02400.grib\n|         arw-sch-gep6/d01_2009123112_02400.grib\n|         arw-tom-gep3/d01_2009123112_02400.grib\n|         arw-tom-gep7/d01_2009123112_02400.grib\n| **Gridded Observation:** ST4 24 hour precipitation accumulation\n|         met_test/data/sample_obs/ST4/sample_obs/ST4/ST4.2010010112.24h\n| **Point Observation:** \n|         met_test/out/ascii2nc/precip24_2010010112.nc \n\n| **Location:** All of the input data required for this use case can be found in the met_test sample data tarball. Click here to the METplus releases page and download sample data for the appropriate release: https://github.com/dtcenter/METplus/releases\n| The tarball should be unpacked into the directory that you will set the value of INPUT_BASE. See 'Running METplus' section for more information.\n| **Data Source:** Unknown\n\n"
      ]
    },
    {
      "cell_type": "markdown",
      "metadata": {},
      "source": [
        "## METplus Components\n\nThis use case utilizes the METplus EnsembleStat wrapper to search for\nfiles that are valid at a given run time and generate a command to run\nthe MET tool EnsembleStat if all required files are found.\n\n"
      ]
    },
    {
      "cell_type": "markdown",
      "metadata": {},
      "source": [
        "## METplus Workflow\n\nEnsembleStat is the only tool called in this example. It processes the following\nrun times:\n\n| **Init:** 2009-12-31_12Z\n| **Forecast lead:** 24 hour\n\n"
      ]
    },
    {
      "cell_type": "markdown",
      "metadata": {},
      "source": [
        "## METplus Configuration\n\nMETplus first loads all of the configuration files found in parm/metplus_config,\nthen it loads any configuration files passed to METplus via the command line\nwith the -c option, i.e. -c parm/use_cases/met_tool_wrapper/EnsembleStat/EnsembleStat.conf\n\n.. highlight:: bash\n.. literalinclude:: ../../../../parm/use_cases/met_tool_wrapper/EnsembleStat/EnsembleStat.conf\n\n\n"
      ]
    },
    {
      "cell_type": "markdown",
      "metadata": {},
      "source": [
        "## MET Configuration\n\nMETplus sets environment variables based on the values in the METplus configuration file.\nThese variables are referenced in the MET configuration file. **YOU SHOULD NOT SET ANY OF THESE ENVIRONMENT VARIABLES YOURSELF! THEY WILL BE OVERWRITTEN BY METPLUS WHEN IT CALLS THE MET TOOLS!** If there is a setting in the MET configuration file that is not controlled by an environment variable, you can add additional environment variables to be set only within the METplus environment using the [user_env_vars] section of the METplus configuration files. See the 'User Defined Config' section on the 'System Configuration' page of the METplus User's Guide for more information.\n\n.. highlight:: bash\n.. literalinclude:: ../../../../parm/met_config/EnsembleStatConfig_wrapped\n\nNote the following variables are referenced in the MET configuration file.\n\n* **${MODEL}** - Name of forecast input. Corresponds to MODEL in the METplus configuration file.\n* **${OBTYPE}** - Name of observation input. Corresponds to OBTYPE in the METplus configuration file.\n* **${REGRID_TO_GRID}** - Grid to remap data. Corresponds to ENSEMBLE_STAT_REGRID_TO_GRID in the METplus configuration file.\n* **${ENS_THRESH}** - Threshold for ratio of valid files to expected files to allow application to run. Corresponds to ENSEMBLE_STAT_ENS_THRESH in the METplus configuration file.\n* **${ENS_FIELD}** - Formatted ensemble product fields information. Generated from ENS_VAR<n>_[NAME/LEVEL/THRESH/OPTIONS] in the METplus configuration file.\n* **${FCST_FIELD}** - Formatted forecast field information. Generated from [FCST/BOTH]_VAR<n>_[NAME/LEVEL/THRESH/OPTIONS] in the METplus configuration file.\n* **${OBS_FIELD}** - Formatted observation field information. Generated from [OBS/BOTH]_VAR<n>_[NAME/LEVEL/THRESH/OPTIONS] in the METplus configuration file.\n* **${OBS_WINDOW_BEGIN}** - Corresponds to OBS_WINDOW_BEGIN or OBS_ENSEMBLE_STAT_WINDOW_BEGIN in the METplus configuration file.\n* **${OBS_WINDOW_END}** - Corresponds to OBS_WINDOW_END or OBS_ENSEMBLE_STAT_WINDOW_END in the METplus configuration file.\n* **${CLIMO_MEAN_FILE}** - Optional path to climatology mean file. Corresponds to ENSEMBLE_STAT_CLIMO_MEAN_INPUT_[DIR/TEMPLATE] in the METplus configuration file.\n* **${CLIMO_STDEV_FILE}** - Optional path to climatology standard deviation file. Corresponds to ENSEMBLE_STAT_CLIMO_STDEV_INPUT_[DIR/TEMPLATE] in the METplus configuration file.\n* **${OUTPUT_PREFIX}** - String to prepend to the output filenames. Corresponds to ENSEMBLE_STAT_OUTPUT_PREFIX in the METplus configuration file.\n\n\n"
      ]
    },
    {
      "cell_type": "markdown",
      "metadata": {},
      "source": [
        "## Running METplus\n\nIt is recommended to run this use case by:\n\nPassing in EnsembleStat.conf then a user-specific system configuration file::\n\n  master_metplus.py -c /path/to/METplus/parm/use_cases/met_tool_wrapper/EnsembleStat/EnsembleStat.conf -c /path/to/user_system.conf\n\nThe following METplus configuration variables must be set correctly to run this example.:\n\n* **INPUT_BASE** - Path to directory where sample data tarballs are unpacked (See Datasets section to obtain tarballs).\n* **OUTPUT_BASE** - Path where METplus output will be written. This must be in a location where you have write permissions\n* **MET_INSTALL_DIR** - Path to location where MET is installed locally\n\nExample User Configuration File::\n\n  [dir]\n  INPUT_BASE = /path/to/sample/input/data\n  OUTPUT_BASE = /path/to/output/dir\n  MET_INSTALL_DIR = /path/to/met-X.Y \n\n**NOTE:** All of these items must be found under the [dir] section.\n\n\n"
      ]
    },
    {
      "cell_type": "markdown",
      "metadata": {},
      "source": [
        "## Expected Output\n\nA successful run will output the following both to the screen and to the logfile::\n\n  INFO: METplus has successfully finished running.\n\nRefer to the value set for **OUTPUT_BASE** to find where the output data was generated.\nOutput for this use case will be found in ensemble/200912311200/ensemble_stat  (relative to **OUTPUT_BASE**)\nand will contain the following files:\n\n* ensemble_stat_20100101_120000V.stat\n* ensemble_stat_20100101_120000V_ecnt.txt\n* ensemble_stat_20100101_120000V_rhist.txt\n* ensemble_stat_20100101_120000V_phist.txt\n* ensemble_stat_20100101_120000V_orank.txt\n* ensemble_stat_20100101_120000V_ssvar.txt\n* ensemble_stat_20100101_120000V_relp.txt\n* ensemble_stat_20100101_120000V_ens.nc\n* ensemble_stat_20100101_120000V_orank.nc\n\n"
      ]
    },
    {
      "cell_type": "markdown",
      "metadata": {},
      "source": [
        "## Keywords\n\n<div class=\"alert alert-info\"><h4>Note</h4><p></p></div>\n `EnsembleStatToolUseCase <https://dtcenter.github.io/METplus/search.html?q=EnsembleStatToolUseCase&check_keywords=yes&area=default>`_,\n `PythonEmbeddingFileUseCase <https://dtcenter.github.io/METplus/search.html?q=PythonEmbeddingFileUseCase&check_keywords=yes&area=default>`_,\n `EnsembleAppUseCase <https://dtcenter.github.io/METplus/search.html?q=EnsembleAppUseCase&check_keywords=yes&area=default>`_,\n `ProbabilityGenerationAppUseCase <https://dtcenter.github.io/METplus/search.html?q=ProbabilityGenerationAppUseCase&check_keywords=yes&area=default>`_\n `GRIBFileUseCase <https://dtcenter.github.io/METplus/search.html?q=GRIBFileUseCase&check_keywords=yes&area=default>`_,\n\nsphinx_gallery_thumbnail_path = '_static/met_tool_wrapper-EnsembleStat.png'\n\n"
      ]
    }
  ],
  "metadata": {
    "kernelspec": {
      "display_name": "Python 3",
      "language": "python",
      "name": "python3"
    },
    "language_info": {
      "codemirror_mode": {
        "name": "ipython",
        "version": 3
      },
      "file_extension": ".py",
      "mimetype": "text/x-python",
      "name": "python",
      "nbconvert_exporter": "python",
      "pygments_lexer": "ipython3",
      "version": "3.6.3"
    }
  },
  "nbformat": 4,
  "nbformat_minor": 0
}