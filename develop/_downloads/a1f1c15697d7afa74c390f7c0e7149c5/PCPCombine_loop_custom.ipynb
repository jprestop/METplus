{
  "cells": [
    {
      "cell_type": "code",
      "execution_count": null,
      "metadata": {
        "collapsed": false
      },
      "outputs": [],
      "source": [
        "%matplotlib inline"
      ]
    },
    {
      "cell_type": "markdown",
      "metadata": {},
      "source": [
        "\nPCPCombine: Custom String Looping Use Case\n============================================================================\n\nmet_tool_wrapper/PCPCombine/PCPCombine_loop_custom.conf\n\n\n"
      ]
    },
    {
      "cell_type": "markdown",
      "metadata": {},
      "source": [
        "Scientific Objective\n--------------------\n\nNone. This wrapper's purpose is to demonstrate the ability to read in a user-defined\nlist of strings, processing each item in the list for the given run time.\n\n\n"
      ]
    },
    {
      "cell_type": "markdown",
      "metadata": {},
      "source": [
        "Datasets\n--------\n\n| **Forecast:** WRF-ARW precipitation 24h accumulation fields\n\n| **Location:** All of the input data required for this use case can be found in the met_test sample data tarball. Click here to the METplus releases page and download sample data for the appropriate release: https://github.com/dtcenter/METplus/releases\n| This tarball should be unpacked into the directory that you will set the value of INPUT_BASE. See 'Running METplus' section for more information.\n\n| **Data Source:** WRF-AFW\n\n"
      ]
    },
    {
      "cell_type": "markdown",
      "metadata": {},
      "source": [
        "METplus Components\n------------------\n\nThis use case utilizes the METplus PCPCombine wrapper to run across a user-provided\nlist of strings, executing each item in the list for each run time. In this example,\nthe ADD mode of PCPCombine is used, but only a single file is processed for each run time.\nBecause it is executed in this manner, the output will match the input.\n\n"
      ]
    },
    {
      "cell_type": "markdown",
      "metadata": {},
      "source": [
        "METplus Workflow\n----------------\n\nPCPCombine is the only tool called in this example. It processes the following\nrun times:\n\n| **Valid:** 2009-12-31_12Z\n| **Forecast lead:** 24 hour\n\n"
      ]
    },
    {
      "cell_type": "markdown",
      "metadata": {},
      "source": [
        "METplus Configuration\n---------------------\n\nMETplus first loads all of the configuration files found in parm/metplus_config,\nthen it loads any configuration files passed to METplus via the command line\nwith the -c option, i.e. -c parm/use_cases/met_tool_wrapper/PCPCombine/PCPCombine_loop_custom.conf\n\n.. highlight:: bash\n.. literalinclude:: ../../../../parm/use_cases/met_tool_wrapper/PCPCombine/PCPCombine_loop_custom.conf\n\n"
      ]
    },
    {
      "cell_type": "markdown",
      "metadata": {},
      "source": [
        "MET Configuration\n---------------------\n\nNone. PCPCombine does not use configuration files.\n\n\n"
      ]
    },
    {
      "cell_type": "markdown",
      "metadata": {},
      "source": [
        "Running METplus\n---------------\n\nThis use case can be run two ways:\n\n1) Passing in PCPCombine_loop_custom.conf then a user-specific system configuration file::\n\n       master_metplus.py -c /path/to/METplus/parm/use_cases/met_tool_wrapper/PCPCombine/PCPCombine_loop_custom.conf -c /path/to/user_system.conf\n\n2) Modifying the configurations in parm/metplus_config, then passing in PCPCombine_loop_custom.conf::\n\n       master_metplus.py -c /path/to/METplus/parm/use_cases/met_tool_wrapper/PCPCombine/PCPCombine_loop_custom.conf\n\nThe former method is recommended. Whether you add them to a user-specific configuration file or modify the metplus_config files, the following variables must be set correctly:\n\n* **INPUT_BASE** - Path to directory where sample data tarballs are unpacked (See Datasets section to obtain tarballs). This is not required to run METplus, but it is required to run the examples in parm/use_cases\n* **OUTPUT_BASE** - Path where METplus output will be written. This must be in a location where you have write permissions\n* **MET_INSTALL_DIR** - Path to location where MET is installed locally\n\nExample User Configuration File::\n\n  [dir]\n  INPUT_BASE = /path/to/sample/input/data\n  OUTPUT_BASE = /path/to/output/dir\n  MET_INSTALL_DIR = /path/to/met-X.Y \n\n**NOTE:** All of these items must be found under the [dir] section.\n\n\n"
      ]
    },
    {
      "cell_type": "markdown",
      "metadata": {},
      "source": [
        "Expected Output\n---------------\n\nA successful run will output the following both to the screen and to the logfile::\n\n  INFO: METplus has successfully finished running.\n\nRefer to the value set for **OUTPUT_BASE** to find where the output data was generated.\nOutput for this use case will be found in met_tool_wrapper/PCPCombine/PCPCombine_loop_custom (relative to **OUTPUT_BASE**)\nand will contain the following folders:\n\n* arw-fer-gep1\n* arw-fer-gep5\n* arw-sch-gep2\n* arw-sch-gep6\n* arw-tom-gep3\n* arw-tom-gep7\n\nand each of the folders will contain a single file titled:\n\n* d01_2009123112_02400.nc\n\n"
      ]
    },
    {
      "cell_type": "markdown",
      "metadata": {},
      "source": [
        "Keywords\n--------\n\n<div class=\"alert alert-info\"><h4>Note</h4><p></p></div>\n `PCPCombineToolUseCase <https://dtcenter.github.io/METplus/search.html?q=PCPCombineToolUseCase&check_keywords=yes&area=default>`_,\n `CustomStringLoopingUseCase <https://dtcenter.github.io/METplus/search.html?q=CustomStringLoopingUseCase&check_keywords=yes&area=default>`_\n\nsphinx_gallery_thumbnail_path = '_static/met_tool_wrapper-PCPCombine.png'\n\n"
      ]
    }
  ],
  "metadata": {
    "kernelspec": {
      "display_name": "Python 3",
      "language": "python",
      "name": "python3"
    },
    "language_info": {
      "codemirror_mode": {
        "name": "ipython",
        "version": 3
      },
      "file_extension": ".py",
      "mimetype": "text/x-python",
      "name": "python",
      "nbconvert_exporter": "python",
      "pygments_lexer": "ipython3",
      "version": "3.6.10"
    }
  },
  "nbformat": 4,
  "nbformat_minor": 0
}