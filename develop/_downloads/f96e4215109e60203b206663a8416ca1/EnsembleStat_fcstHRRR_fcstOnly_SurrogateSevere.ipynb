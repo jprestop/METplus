{
  "cells": [
    {
      "cell_type": "code",
      "execution_count": null,
      "metadata": {
        "collapsed": false
      },
      "outputs": [],
      "source": [
        "%matplotlib inline"
      ]
    },
    {
      "cell_type": "markdown",
      "metadata": {},
      "source": [
        "\nSurrogate Severe Calculation: PCPCombine, EnsembleStat, and RegridDataPlane \n===================================================================================================\n\nmodel_applications/convection_allowing_model/EnsembleStat_fcstHRRR_fcstOnly_SurrogateSevere.conf\n\n\n"
      ]
    },
    {
      "cell_type": "markdown",
      "metadata": {},
      "source": [
        "Scientific Objective\n--------------------\n\nRun PCPCombine, EnsembleStat, and RegridDataPlane tools to create surrogate severe probability \nforecasts (SSPFs) for a given date. SSPFs are a severe weather forecasting tool and is a techniqu\nused by the Storm Prediction Center (SPC) as well as others. SSPFs are based on updraft helicity \n(UH; UH = \u222bz0 to zt (\u03c9 * \u03b6) dz) since certain thresholds of UH have been shown as good proxies for# severe weather. SSPFs can be thought of as the perfect model forecast. They are derived as follows:\n\n   1. Regrid the maximum UH value over the 2-5km layer at each grid point to the NCEP 211 grid (dx = ~80km).\n   2. Create a binary mask of points that meet a given threshold of UH)\n   3. Convert the binary mask into a probability field by applying a Gaussian filter.\n\nFor more information, please reference Sobash et al. 2011 (https://journals.ametsoc.org/doi/full/10.1175/WAF-D-10-05046.1).\n\n"
      ]
    },
    {
      "cell_type": "markdown",
      "metadata": {},
      "source": [
        "Datasets\n--------\n\nThere are two dates that can be used as input data for this use case 20190518 or 20200205.\n\n* Input Data: HRRR data\n  - There should 24 grib2 files.\n  - Variable of interest: MXUPHL; the maximum updraft helicity\n  - Level: Z2000-5000; from 2 - 5km\n  - Format: grib2\n  - Projection: Lambert Conformal\n\n* Location: kiowa:/d1/projects/METplus/METplus_Data/model_applications/convection_allowing_models/surrogate_severe_calc/\n\n* Data Source: Originally received from Burkely Gallo at the Storm Prediction Center. \n\n"
      ]
    },
    {
      "cell_type": "markdown",
      "metadata": {},
      "source": [
        "METplus Components\n------------------\n\nThis use case runs the PCPCombine, EnsembleStat, and RegridDataPlane MET tools.\n\n"
      ]
    },
    {
      "cell_type": "markdown",
      "metadata": {},
      "source": [
        "METplus Workflow\n----------------\n\nThis workflow loops over the data by process, meaning that each MET tool will run over all times\nbefore moving onto the tool. PCPCombine is called first, followed by EnsembleStat,\nand then, finally, RegridDataPlane.\n\n"
      ]
    },
    {
      "cell_type": "markdown",
      "metadata": {},
      "source": [
        "METplus Configuration\n---------------------\n\nMETplus first loads all of the configuration files found in parm/metplus_config. Then, it loads\nany configuration files passed to METplus by the command line with the -c option.\n\n.. highlight:: bash\n.. literalinclude:: ../../../../parm/use_cases/model_applications/convection_allowing_models/EnsembleStat_fcstHRRR_fcstOnly_SurrogateSevere.conf\n\n"
      ]
    },
    {
      "cell_type": "markdown",
      "metadata": {},
      "source": [
        "MET Configuration\n-----------------\n\nMETplus sets environment variables based on the values in the METplus configuration file.\nThese variables are referenced in the MET configuration file. **YOU SHOULD NOT SET ANY OF THESE ENVIRONMENT VARIABLES YOURSELF! THEY WILL BE OVERWRITTEN BY METPLUS WHEN IT CALLS THE MET TOOLS!** If there is a setting in the MET configuration file that is not controlled by an environment variable, you can add additional environment variables to be set only within the METplus environment using the [user_env_vars] section of the METplus configuration files. See the 'User Defined Config' section on the 'System Configuration' page of the METplus User's Guide for more information.\n\n**EnsembleStatConfig_Surrogate_severe**\n\n.. highlight:: bash\n.. literalinclude:: ../../../../parm/use_cases/model_applications/convection_allowing_models/EnsembleStatConfig_Surrogate_severe \n\nSee the following file for more information about the environment variables set in this configuration file:\n  parm/use_cases/met_tool_wrapper/EnsembleStat/EnsembleStat.py\n\n"
      ]
    },
    {
      "cell_type": "markdown",
      "metadata": {},
      "source": [
        "Running METplus\n---------------\n\nThe command to run this use case is::\n\n   master_metplus.py -c /path/to/METplus/parm/use_cases/model_applications/convection_allowing_models/EnsembleStat_fcstHRRR_fcstOnly_SurrogateSevere.conf\n\n"
      ]
    },
    {
      "cell_type": "markdown",
      "metadata": {},
      "source": [
        "Expected Output\n---------------\n\n"
      ]
    },
    {
      "cell_type": "code",
      "execution_count": null,
      "metadata": {
        "collapsed": false
      },
      "outputs": [],
      "source": [
        "# A successful run of this use case will output the following to the screen and logfile::\n#  \n#    INFO: METplus has successfully finished runing.\n#\n# A successful run will have the following output files in the location defined by {OUTPUT_BASE}, which\n# is located in the metplus_system.conf configuration file located in /path/to/METplus/parm/metplus_config.\n# This list of files should be found for every time run through METplus. Using the output for 20190518 as an example.\n#\n# **PCPCombine output**:\n#\n# * 20190518/hrrr_ncep_2019051800f036.nc\n#\n# **EnsembleStat output**:\n#\n# * ensemble_stat_20190519_120000V_ens.nc\n#\n# **RegridDataPlane output**:\n# \n# * surrogate_severe_20190518_036V_regrid.nc\n#"
      ]
    },
    {
      "cell_type": "markdown",
      "metadata": {},
      "source": [
        "Keywords\n--------\n\nsphinx_gallery_thumbnail_path = '_static/convection_allowing_models-EnsembleStat_fcstHRRR_fcstOnly_SurrogateSevere.png'\n\n<div class=\"alert alert-info\"><h4>Note</h4><p>PCPCombineUseCase, EnsembleStatUseCase, RegridDataPlaneUseCase</p></div>\n\n"
      ]
    }
  ],
  "metadata": {
    "kernelspec": {
      "display_name": "Python 3",
      "language": "python",
      "name": "python3"
    },
    "language_info": {
      "codemirror_mode": {
        "name": "ipython",
        "version": 3
      },
      "file_extension": ".py",
      "mimetype": "text/x-python",
      "name": "python",
      "nbconvert_exporter": "python",
      "pygments_lexer": "ipython3",
      "version": "3.6.10"
    }
  },
  "nbformat": 4,
  "nbformat_minor": 0
}