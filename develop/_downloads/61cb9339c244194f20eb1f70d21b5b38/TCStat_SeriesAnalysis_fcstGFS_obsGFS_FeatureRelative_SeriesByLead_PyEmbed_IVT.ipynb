{
  "cells": [
    {
      "cell_type": "code",
      "execution_count": null,
      "metadata": {
        "collapsed": false
      },
      "outputs": [],
      "source": [
        "%matplotlib inline"
      ]
    },
    {
      "cell_type": "markdown",
      "metadata": {},
      "source": [
        "\n# Multi_Tool: Feature Relative by Lead using User-Defined Fields \n\nmodel_applications/medium_range/\nTCStat_SeriesAnalysis_fcstGFS\n_obsGFS_FeatureRelative\n_SeriesByLead_PyEmbed_IVT.conf\n\n\n"
      ]
    },
    {
      "cell_type": "markdown",
      "metadata": {},
      "source": [
        "## Scientific Objective\n\nThis use case calls multiple tools to produce diagnostic plots of systematic erros relative to a\nfeature (e.g. hurricane, MCS, etc...). This use case calls a user provided python script that\ncalculates a diagnostic of interest (e.g. integrated vapor transport, potential vorticity, etc...).\nThis user diagnostic is then used to define the systematic errors. This example calculates statistics\nover varying forecast leads with the ability to define lead groupings. This use case is very similar\nto the Multi_Tools: Feature Relative by Lead use case.\n(ADeck,GFS:BDeck,GFS:ATCF,Grib2)\n\nBy maintaining focus of each evaluation time (or evaluation time series, in this case)\non a user-defined area around a cyclone, the model statistical errors associated\nwith cyclonic physical features (moisture flux, stability, strength of upper-level\nPV anomaly and jet, etc.) can be related directly to the model forecasts and provide\nimprovement guidance by accurately depicting interactions with significant weather\nfeatures around and within the cyclone. This is in contrast to the traditional\nmethod of regional averaging cyclone observations in a fixed grid, which\n\"smooths out\" system features and limits the meaningful metrics that can be gathered.\nSpecifically, this use case creates bins of forecast lead times as specified by the\ngiven ranges which provides additional insight directly into forecast lead time accuracy.\n\nAdditionally, the ability to calculate model statistical errors based on user provided diagnostics\nallows the user to customize the feature relative analysis to suit their needs.\n\n"
      ]
    },
    {
      "cell_type": "markdown",
      "metadata": {},
      "source": [
        "## Datasets\n\nThis use case compares the Global Forecast System (GFS) forecast to the GFS analysis for\nhurricane Dorian. It is based on the user provided python script that calculates the diagnostic \nintegrated vaport transport (IVT). \n\n - Variables required to calculate IVT:\n   Levels required: all pressure levels <= 100mb\n   #. Temperature\n   #. v- component of wind\n   #. u- component of wind\n   #. Geopotential height\n   #. Specific humidity OR Relative Humidity\n - Forecast dataset: GFS Grid 4 Forecast\n   GFS Forecast data can be found at the following website: https://www.ncdc.noaa.gov/data-access/model-data/model-datasets/global-forcast-system-gfs\n   - Initialization date: 20190830\n   - Initialization hours: 00, 06, 12, 18 UTC\n   - Lead times: 90, 96, 102, 108, 114\n   - Format: Grib2\n   - Resolution: 0.5 degree\n - Observation dataset: GFS Grid 4 Analysis\n   GFS Analysis data can be found at the following website: https://www.ncdc.noaa.gov/data-access/model-data/model-datasets/global-forcast-system-gfs\n   - Valid date/time range: 20190902_18 - 20190904_12 every 6 hours\n   - Format: Grib2\n   - Resolution: 0.5 degree\n - Hurricane Track Data\n   Hurricane track data can be found at the following website: http://hurricanes.ral.ucar.edu/repository/data/\n   - ADeck Track File: aal052019.dat\n   - BDeck Track File: bal052019.dat\n\n\n"
      ]
    },
    {
      "cell_type": "markdown",
      "metadata": {},
      "source": [
        "## METplus Components\n\nThis use case first runs PyEmbedIngest to run the user provided python scripts to calculate the\ndesired diagnostic (in this example, IVT). PyEmbedIngest runs the RegridDataPlane tool to write \nIVT to a MET readable netCDF file. Then TCPairs and ExtractTiles are run to generate matched\ntropical cyclone data and regrid them into appropriately-sized tiles along a storm track. \nThe MET tc-stat tool is used to filter the track data and the MET regrid-dataplane tool is used to \nregrid the data (GRIB1 or GRIB2 into netCDF). Next, a series analysis by lead time is performed on \nthe results and plots (.ps and .png) are generated for all variable-level-stat combinations from \nthe specified variables, levels, and requested statistics. If lead grouping is turned on, the final\nresults are aggregated into forecast hour groupings as specified by the start, end and increment in\nthe METplus configuration file, as well as labels to identify each forecast hour grouping. If lead\ngrouping is not turned out, the final results will be written out for each requested lead time.\n\n"
      ]
    },
    {
      "cell_type": "markdown",
      "metadata": {},
      "source": [
        "## METplus Workflow\n\nThis use case loops by process which means that each tool is run for all times before moving to the\nnext tool. The tool order is as follows:\n\nPyEmbedIngest, TCPairs, ExtractTiles, SeriesByLead\n\nThis example loops by forecast/lead time (with begin, end, and increment as specified in the METplus\nTCStat_SeriesAnalysis_fcstGFS_obsGFS_FeatureRelative_SeriesByLead_PyEmbed_IVT.conf file). \n\n4 initialization times will be run over 5 lead times:\n\n| **Init:** 20190830_00Z\n| **Forecast lead:** 90, 96, 102, 108, 114\n\n| **Init:** 20190830_06Z\n| **Forecast lead:** 90, 96, 102, 108, 114\n\n| **Init:** 20190830_12Z\n| **Forecast lead:** 90, 96, 102, 108, 114\n\n| **Init:** 20190830_18Z\n| **Forecast lead:** 90, 96, 102, 108, 114\n\n\n"
      ]
    },
    {
      "cell_type": "markdown",
      "metadata": {},
      "source": [
        "## METplus Configuration\n\nMETplus first loads all of the configuration files found in parm/metplus_config,\nthen it loads any configuration files passed to METplus via the command line\nwith the -c option, i.e. -c parm/use_cases/model_applications/medium_range/TCStat_SeriesAnalysis_fcstGFS_obsGFS_FeatureRelative_SeriesByLead_PyEmbed_IVT.conf\n\n.. highlight:: bash\n.. literalinclude:: ../../../../parm/use_cases/model_applications/medium_range/TCStat_SeriesAnalysis_fcstGFS_obsGFS_FeatureRelative_SeriesByLead_PyEmbed_IVT.conf\n\n\n"
      ]
    },
    {
      "cell_type": "markdown",
      "metadata": {},
      "source": [
        "## MET Configuration\n\nMETplus sets environment variables based on the values in the METplus configuration file.\nThese variables are referenced in the MET configuration file. \n**YOU SHOULD NOT SET ANY OF THESE ENVIRONMENT VARIABLES YOURSELF! THEY WILL BE OVERWRITTEN BY METPLUS WHEN IT CALLS THE MET TOOLS!** \nIf there is a setting in the MET configuration file that is not controlled by an environment \nvariable, you can add additional environment variables to be set only within the METplus environmen\nusing the [user_env_vars] section of the METplus configuration files. See the 'User Defined Config'\nsection on the 'System Configuration' page of the METplus User's Guide for more information.\n\n.. highlight:: bash\n.. literalinclude:: ../../../../parm/use_cases/model_applications/medium_range/TCPairsETCConfig_IVT\n.. literalinclude:: ../../../../parm/use_cases/model_applications/medium_range/TCStatConfig_IVT\n.. literalinclude:: ../../../../parm/use_cases/model_applications/medium_range/SeriesAnalysisConfig_IVT\n\nSee the following files for more information about the environment variables set in these configuration files.\n\nparm/use_cases/met_tool_wrapper/TCPairs/TCPairs.py\n\n\n"
      ]
    },
    {
      "cell_type": "markdown",
      "metadata": {},
      "source": [
        "## Running METplus\n\nThis use case can be run two ways:\n\n1) Passing in TCStat_SeriesAnalysis_fcstGFS_obsGFS_FeatureRelative_SeriesByLead_PyEmbed_IVT.conf, \nthen a user-specific system configuration file::\n\n       master_metplus.py \\\n       -c /path/to/METplus/parm/use_cases/model_applications/medium_range/TCStat_SeriesAnalysis_fcstGFS_obsGFS_FeatureRelative_SeriesByLead_PyEmbed_IVT.conf \\\n       -c /path/to/user_system.conf\n\n2) Modifying the configurations in parm/metplus_config, then passing in TCStat_SeriesAnalysis_fcstGFS_obsGFS_FeatureRelative_SeriesByLead_PyEmbed_IVT.conf::\n\n       master_metplus.py \\\n       -c /path/to/METplus/parm/use_cases/model_applications/medium_range/TCStat_SeriesAnalysis_fcstGFS_obsGFS_FeatureRelative_SeriesByLead_PyEmbed_IVT.conf\n\nThe former method is recommended. Whether you add them to a user-specific configuration file or modify the metplus_config files, the following variables must be set correctly:\n\n* **INPUT_BASE** - Path to directory where sample data tarballs are unpacked (See Datasets section to obtain tarballs). This is not required to run METplus, but it is required to run the examples in parm/use_cases\n* **OUTPUT_BASE** - Path where METplus output will be written. This must be in a location where you have write permissions\n* **MET_INSTALL_DIR** - Path to location where MET is installed locally\n\n and for the [exe] section, you will need to define the location of NON-MET executables.\n If the executable is in the user's path, METplus will find it from the name. \n If the executable is not in the path, specify the full path to the executable here (i.e. RM = /bin/rm)  \n The following executables are required for performing series analysis use cases:\n\nExample User Configuration File::\n\n  [dir]\n  INPUT_BASE = /path/to/sample/input/data\n  OUTPUT_BASE = /path/to/output/dir\n  MET_INSTALL_DIR = /path/to/met-X.Y\n\n  [exe]\n  RM = /path/to/rm\n  CUT = /path/to/cut\n  TR = /path/to/tr\n  NCAP2 = /path/to/ncap2\n  CONVERT = /path/to/convert\n  NCDUMP = /path/to/ncdump\n\n\n"
      ]
    },
    {
      "cell_type": "markdown",
      "metadata": {},
      "source": [
        "## Expected Output\n\nA successful run will output the following both to the screen and to the logfile::\n\n  INFO: METplus has successfully finished running.\n\nRefer to the value set for **OUTPUT_BASE** to find where the output data was generated.\nOutput for this use case will be found in subdirectories of the 'series_analysis_lead' directory (relative to **OUTPUT_BASE**):\n\n* series_animate\n* series_F090\n* series_F096\n* series_F102\n* series_F108\n* series_F114\n\n| The series_animate directory contains the animations of the series analysis in .gif format for all variable, level, and statistics combinations:\n\n   series_animate_<varname>_<level>_<stat>.gif\n\n| The series_FHHH directories contains files that have the following format:\n\n  ANLY_FILES_FHHH\n\n  FCST_ASCII_FILES_FHHH\n\n  series_FHHH_<varname>_<level>_<stat>.png\n\n  series_FHHH_<varname>_<level>_<stat>.ps\n\n  series_FHHH_<varname>_<level>_<stat>.nc\n\n  Where:\n\n   **HHH** is the forecast hour/lead time in hours\n\n   **varname** is the variable of interest, as specified in the METplus series_by_lead_all_fhrs config file\n\n   **level**  is the level of interest, as specified in the METplus series_by_lead_all_fhrs config file\n\n   **stat** is the statistic of interest, as specified in the METplus series_by_lead_all_fhrs config file.\n\n\n"
      ]
    },
    {
      "cell_type": "markdown",
      "metadata": {},
      "source": [
        "## Keywords\n\n<div class=\"alert alert-info\"><h4>Note</h4><p></p></div>\n `TCPairsToolUseCase <https://dtcenter.github.io/METplus/search.html?q=TCPairsToolUseCase&check_keywords=yes&area=default>`_,\n `SeriesByLeadUseCase <https://dtcenter.github.io/METplus/search.html?q=SeriesByLeadUseCase&check_keywords=yes&area=default>`_,\n `TCStatToolUseCase <https://dtcenter.github.io/METplus/search.html?q=TCStatToolUseCase&check_keywords=yes&area=default>`_,\n `RegridDataPlaneToolUseCase <https://dtcenter.github.io/METplus/search.html?q=RegridDataPlaneToolUseCase&check_keywords=yes&area=default>`_,\n `PyEmbedIngestToolUseCase <https://dtcenter.github.io/METplus/search.html?q=PyEmbedIngestToolUseCase&check_keywords=yes&area=default>`_,\n `MediumRangeAppUseCase <https://dtcenter.github.io/METplus/search.html?q=MediumRangeAppUseCase&check_keywords=yes&area=default>`_,\n `SeriesAnalysisUseCase <https://dtcenter.github.io/METplus/search.html?q=SeriesAnalysisUseCase&check_keywords=yes&area=default>`_,\n `GRIB2FileUseCase <https://dtcenter.github.io/METplus/search.html?q=GRIB2FileUseCase&check_keywords=yes&area=default>`_,\n `FeatureRelativeUseCase <https://dtcenter.github.io/METplus/search.html?q=FeatureRelativeUseCase&check_keywords=yes&area=default>`_,\n `SBUOrgUseCase <https://dtcenter.github.io/METplus/search.html?q=SBUOrgUseCase&check_keywords=yes&area=default>`_\n `DiagnosticsUseCase <https://dtcenter.github.io/METplus/search.html?q=DiagnosticsUseCase&check_keywords=yes&area=default>`_\n\nsphinx_gallery_thumbnail_path = '_static/medium_range-TCStat_SeriesAnalysis_fcstGFS_obsGFS_FeatureRelative_SeriesByLead_SBU_IVT.png'\n\n"
      ]
    }
  ],
  "metadata": {
    "kernelspec": {
      "display_name": "Python 3",
      "language": "python",
      "name": "python3"
    },
    "language_info": {
      "codemirror_mode": {
        "name": "ipython",
        "version": 3
      },
      "file_extension": ".py",
      "mimetype": "text/x-python",
      "name": "python",
      "nbconvert_exporter": "python",
      "pygments_lexer": "ipython3",
      "version": "3.6.3"
    }
  },
  "nbformat": 4,
  "nbformat_minor": 0
}