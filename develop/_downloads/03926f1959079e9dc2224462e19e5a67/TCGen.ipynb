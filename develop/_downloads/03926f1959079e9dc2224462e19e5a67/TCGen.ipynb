{
  "cells": [
    {
      "cell_type": "code",
      "execution_count": null,
      "metadata": {
        "collapsed": false
      },
      "outputs": [],
      "source": [
        "%matplotlib inline"
      ]
    },
    {
      "cell_type": "markdown",
      "metadata": {},
      "source": [
        "\nTCGen: Basic Use Case\n==========================================================================\n\nmet_tool_wrapper/TCGen/TCGen.conf\n\n\n"
      ]
    },
    {
      "cell_type": "markdown",
      "metadata": {},
      "source": [
        "Scientific Objective\n--------------------\n\nThe TC-Gen tool provides verification of tropical cyclone genesis forecasts in ATCF file format.\n\n\n"
      ]
    },
    {
      "cell_type": "markdown",
      "metadata": {},
      "source": [
        "Datasets\n--------\n\n\n| **Track:** A Deck or B Deck (Best)\n| **Genesis:** Genesis Forecast\n\n| **Location:** All of the input data required for this use case can be found in the met_tool_wrapper sample data tarball. Click here to the METplus releases page and download sample data for the appropriate release: https://github.com/dtcenter/METplus/releases\n| The tarball should be unpacked into the directory that you will set the value of INPUT_BASE. See 'Running METplus' section for more information.\n\n\n"
      ]
    },
    {
      "cell_type": "markdown",
      "metadata": {},
      "source": [
        "METplus Components\n------------------\n\nThis use case utilizes the METplus TCGen wrapper to search for\nfiles that match wildcard expressions and generate a command to run\nthe MET tool tc_gen.\n\n"
      ]
    },
    {
      "cell_type": "markdown",
      "metadata": {},
      "source": [
        "METplus Workflow\n----------------\n\nTCGen is the only tool called in this example. It processes the following\nrun times:\n\n| **Init:** 2016\n\n"
      ]
    },
    {
      "cell_type": "markdown",
      "metadata": {},
      "source": [
        "METplus Configuration\n---------------------\n\nMETplus first loads all of the configuration files found in parm/metplus_config,\nthen it loads any configuration files passed to METplus via the command line\nwith the -c option, i.e. -c /path/to/TCGen.conf\n\n.. highlight:: bash\n.. literalinclude:: ../../../../parm/use_cases/met_tool_wrapper/TCGen/TCGen.conf\n\n"
      ]
    },
    {
      "cell_type": "markdown",
      "metadata": {},
      "source": [
        "MET Configuration\n---------------------\n\nMETplus sets environment variables based on the values in the METplus configuration file.\nThese variables are referenced in the MET configuration file. **YOU SHOULD NOT SET ANY OF THESE ENVIRONMENT VARIABLES YOURSELF! THEY WILL BE OVERWRITTEN BY METPLUS WHEN IT CALLS THE MET TOOLS!** If there is a setting in the MET configuration file that is not controlled by an environment variable, you can add additional environment variables to be set only within the METplus environment using the [user_env_vars] section of the METplus configuration files. See the 'User Defined Config' section on the 'System Configuration' page of the METplus User's Guide for more information.\n\n.. highlight:: bash\n.. literalinclude:: ../../../../parm/met_config/TCGenConfig_wrapped\n\nNote the following variables are referenced in the MET configuration file.\n\n* **${INIT_FREQ}** - Corresponds to TC_GEN_INIT_FREQUENCY in the METplus configuration file.\n* **${LEAD_WINDOW_DICT}** - Corresponds to TC_GEN_LEAD_WINDOW_[BEGIN/END] in the METplus configuration file.\n* **${MIN_DURATION}** - Corresponds to TC_GEN_MIN_DURATION in the METplus configuration file.\n* **${FCST_GENESIS_DICT}** - Corresponds to TC_GEN_FCST_GENESIS_[VMAX_THRESH/MSLP_THRESH] in the METplus configuration file.\n* **${BEST_GENESIS_DICT}** - Corresponds to TC_GEN_FCST_GENESIS_[TECHNIQUE/CATEGORY/VMAX_THRESH/MSLP_THRESH] in the METplus configuration file.\n* **${OPER_GENESIS_DICT}** - Corresponds to TC_GEN_OPER_GENESIS_[TECHNIQUE/CATEGORY/VMAX_THRESH/MSLP_THRESH] in the METplus configuration file.\n* **${FILTER}** - Corresponds to TC_GEN_FILTER_<n> in the METplus configuration file.\n* **${MODEL}** - Corresponds to MODEL in the METplus configuration file.\n* **${STORM_ID}** - Corresponds to TC_GEN_STORM_ID in the METplus configuration file.\n* **${STORM_NAME}** - Corresponds to TC_GEN_STORM_NAME in the METplus configuration file.\n* **${INIT_BEG}** -  Corresponds to TC_GEN_INIT_BEG in the METplus configuration file.\n* **${INIT_END** - Corresponds to TC_GEN_INIT_END in the METplus configuration file.\n* **${VALID_BEG}** -  Corresponds to TC_GEN_VALID_BEG in the METplus configuration file.\n* **${VALID_END** - Corresponds to TC_GEN_VALID_END in the METplus configuration file.\n* **${INIT_HOUR_LIST}** - Corresponds to TC_GEN_INIT_HOUR_LIST in the METplus configuration file.\n* **${LEAD_LIST}** - Corresponds to LEAD_SEQ in the METplus configuration file.\n* **${GENESIS_WINDOW_DICT}** - Corresponds to TC_GEN_GENESIS_WINDOW_[BEGIN/END] in the METplus configuration file.\n* **${GENESIS_RADIUS}** - Corresponds to TC_GEN_GENESIS_RADIUS in the METplus configuration file.\n* **${DLAND_FILE}** - Corresponds to TC_GEN_DLAND_FILE in the METplus configuration file.\n\n"
      ]
    },
    {
      "cell_type": "markdown",
      "metadata": {},
      "source": [
        "Running METplus\n---------------\n\nThis use case can be run two ways:\n1) Passing in TCGen.conf then a user-specific system configuration file::\n\n       master_metplus.py -c /path/to/METplus/parm/use_cases/met_tool_wrapper/TCGen/TCGen.conf -c /path/to/user_system.conf\n\n2) Modifying the configurations in parm/metplus_config, then passing in TCGen.conf::\n\n       master_metplus.py -c /path/to/METplus/parm/use_cases/met_tool_wrapper/TCGen/TCGen.conf\n\nThe former method is recommended. Whether you add them to a user-specific configuration file or modify the metplus_config files, the following METplus configuration variables must be set correctly to run this example.:\n\n* **INPUT_BASE** - Path to directory where sample data tarballs are unpacked (See Datasets section to obtain tarballs).\n* **OUTPUT_BASE** - Path where METplus output will be written. This must be in a location where you have write permissions\n* **MET_INSTALL_DIR** - Path to location where MET is installed locally\n\nExample User Configuration File::\n\n  [dir]\n  INPUT_BASE = /path/to/sample/input/data\n  OUTPUT_BASE = /path/to/output/dir\n  MET_INSTALL_DIR = /path/to/met-X.Y \n\n**NOTE:** All of these items must be found under the [dir] section.\n\n\n"
      ]
    },
    {
      "cell_type": "markdown",
      "metadata": {},
      "source": [
        "Expected Output\n---------------\n\nA successful run will output the following both to the screen and to the logfile::\n\n  INFO: METplus has successfully finished running.\n\nRefer to the value set for **OUTPUT_BASE** to find where the output data was generated.\nOutput for this use case will be found in met_tool_wrapper/TCGen\nand will contain the following files:\n\n* tc_gen_2016_ctc.txt\n* tc_gen_2016_cts.txt\n* tc_gen_2016.stat\n\n"
      ]
    },
    {
      "cell_type": "markdown",
      "metadata": {},
      "source": [
        "Keywords\n--------\n\n<div class=\"alert alert-info\"><h4>Note</h4><p></p></div>\n `TCGenToolUseCase <https://dtcenter.github.io/METplus/search.html?q=TCGenToolUseCase&check_keywords=yes&area=default>`_,\n `DTCOrgUseCase <https://dtcenter.github.io/METplus/search.html?q=DTCOrgUseCase&check_keywords=yes&area=default>`_,\n\nsphinx_gallery_thumbnail_path = '_static/met_tool_wrapper-TCGen.png'\n\n"
      ]
    }
  ],
  "metadata": {
    "kernelspec": {
      "display_name": "Python 3",
      "language": "python",
      "name": "python3"
    },
    "language_info": {
      "codemirror_mode": {
        "name": "ipython",
        "version": 3
      },
      "file_extension": ".py",
      "mimetype": "text/x-python",
      "name": "python",
      "nbconvert_exporter": "python",
      "pygments_lexer": "ipython3",
      "version": "3.6.10"
    }
  },
  "nbformat": 4,
  "nbformat_minor": 0
}