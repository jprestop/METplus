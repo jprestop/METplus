{
  "cells": [
    {
      "cell_type": "code",
      "execution_count": null,
      "metadata": {
        "collapsed": false
      },
      "outputs": [],
      "source": [
        "%matplotlib inline"
      ]
    },
    {
      "cell_type": "markdown",
      "metadata": {},
      "source": [
        "\nEnsemble-Stat: Ensemble Statistics using Obs Uncertainty \n=============================================================================\n\nmodel_applications/\nconvection_allowing_model/\nEnsembleStat_fcstHRRRE_obsHRRRE_Sfc\n_Sfc_MultiField.conf\n\n\n"
      ]
    },
    {
      "cell_type": "markdown",
      "metadata": {},
      "source": [
        "Scientific Objective\n--------------------\n\nTo provide useful statistical information about the ensemble characteristics\nsuch as how dispersive it is and the relationship between spread and skill.\nThis example also shows how to compute simple probability fields called\nensemble relative frequency.\n\n"
      ]
    },
    {
      "cell_type": "markdown",
      "metadata": {},
      "source": [
        "Datasets\n--------\n\nRelevant information about the datasets that would be beneficial include:\n\n * Forecast dataset: HRRRE data\n * Observation dataset: HRRRE data\n\n\n"
      ]
    },
    {
      "cell_type": "markdown",
      "metadata": {},
      "source": [
        "METplus Components\n------------------\n\nThis use case runs PB2NC on the prepBUFR observation data to convert it into\nNetCDF format so it can be read by MET. Then EnsembleStat is run.\n\n"
      ]
    },
    {
      "cell_type": "markdown",
      "metadata": {},
      "source": [
        "METplus Workflow\n----------------\n\nThe following tools are used for each run time:\n\nPB2NC > EnsembleStat\n\nThis example loops by initialization time. For each initialization time\nit will process forecast leads 0, 1, and 2. There is only one\ninitialization time in this example, so the following will be run:\n\nRun times:\n\n| **Init:** 2018-07-09_12Z\n| **Forecast lead:** 0\n\n| **Init:** 2018-07-09_12Z\n| **Forecast lead:** 1\n\n| **Init:** 2018-07-09_12Z\n| **Forecast lead:** 2\n\n\n"
      ]
    },
    {
      "cell_type": "markdown",
      "metadata": {},
      "source": [
        "METplus Configuration\n---------------------\n\nMETplus first loads all of the configuration files found in parm/metplus_config,\nthen it loads any configuration files passed to METplus via the command line\nwith the -c option, i.e. -c parm/use_cases/model_applications/convection_allowing_models/EnsembleStat_fcstHRRRE_obsHRRRE_Sfc_MultiField.conf\n\n.. highlight:: bash\n.. literalinclude:: ../../../../parm/use_cases/model_applications/convection_allowing_models/EnsembleStat_fcstHRRRE_obsHRRRE_Sfc_MultiField.conf\n\n"
      ]
    },
    {
      "cell_type": "markdown",
      "metadata": {},
      "source": [
        "MET Configuration\n---------------------\n\nMETplus sets environment variables based on the values in the METplus configuration file.\nThese variables are referenced in the MET configuration file. **YOU SHOULD NOT SET ANY OF THESE ENVIRONMENT VARIABLES YOURSELF! THEY WILL BE OVERWRITTEN BY METPLUS WHEN IT CALLS THE MET TOOLS!** If there is a setting in the MET configuration file that is not controlled by an environment variable, you can add additional environment variables to be set only within the METplus environment using the [user_env_vars] section of the METplus configuration files. See the 'User Defined Config' section on the 'System Configuration' page of the METplus User's Guide for more information.\n\n.. highlight:: bash\n.. literalinclude:: ../../../../parm/use_cases/model_applications/convection_allowing_models/EnsembleStatConfig_SFC\n\nSee the following files for more information about the environment variables set in this configuration file.\n\nparm/use_cases/met_tool_wrapper/EnsembleStat/EnsembleStat.py\n\n"
      ]
    },
    {
      "cell_type": "markdown",
      "metadata": {},
      "source": [
        "Running METplus\n---------------\n\nThis use case can be run two ways:\n\n1) Passing in EnsembleStat_fcstHRRRE_obsHRRRE_Sfc_MultiField.conf then a user-specific system configuration file::\n\n       master_metplus.py -c /path/to/METplus/parm/use_cases/model_applications/convection_allowing_models/EnsembleStat_fcstHRRRE_obsHRRRE_Sfc_MultiField.conf -c /path/to/user_system.conf\n\n2) Modifying the configurations in parm/metplus_config, then passing in EnsembleStat_fcstHRRRE_obsHRRRE_Sfc_MultiField.conf::\n\n       master_metplus.py -c /path/to/METplus/parm/use_cases/model_applications/convection_allowing_models/EnsembleStat_fcstHRRRE_obsHRRRE_Sfc_MultiField.conf\n\nThe former method is recommended. Whether you add them to a user-specific configuration file or modify the metplus_config files, the following variables must be set correctly:\n\n* **INPUT_BASE** - Path to directory where sample data tarballs are unpacked (See Datasets section to obtain tarballs). This is not required to run METplus, but it is required to run the examples in parm/use_cases\n* **OUTPUT_BASE** - Path where METplus output will be written. This must be in a location where you have write permissions\n* **MET_INSTALL_DIR** - Path to location where MET is installed locally\n\nExample User Configuration File::\n\n  [dir]\n  INPUT_BASE = /path/to/sample/input/data\n  OUTPUT_BASE = /path/to/output/dir\n  MET_INSTALL_DIR = /path/to/met-X.Y \n\n**NOTE:** All of these items must be found under the [dir] section.\n\n\n"
      ]
    },
    {
      "cell_type": "markdown",
      "metadata": {},
      "source": [
        "Expected Output\n---------------\n\nA successful run will output the following both to the screen and to the logfile::\n\n  INFO: METplus has successfully finished running.\n\nRefer to the value set for **OUTPUT_BASE** to find where the output data was generated.\nOutput for this use case will be found in model_applications/convection_allowing_models/EnsembleStat_fcstHRRRE_obsHRRRE_Sfc_MultiField/EnsembleStat/201807091200 (relative to **OUTPUT_BASE**)\nand will contain the following files:\n\n* ensemble_stat_HRRRE_F000_ADPSFC_20180709_120000V_ecnt.txt\n* ensemble_stat_HRRRE_F000_ADPSFC_20180709_120000V_ens.nc\n* ensemble_stat_HRRRE_F000_ADPSFC_20180709_120000V_orank.txt\n* ensemble_stat_HRRRE_F000_ADPSFC_20180709_120000V_phist.txt\n* ensemble_stat_HRRRE_F000_ADPSFC_20180709_120000V_relp.txt\n* ensemble_stat_HRRRE_F000_ADPSFC_20180709_120000V_rhist.txt\n* ensemble_stat_HRRRE_F000_ADPSFC_20180709_120000V_ssvar.txt\n* ensemble_stat_HRRRE_F000_ADPSFC_20180709_120000V.stat\n* ensemble_stat_HRRRE_F001_ADPSFC_20180709_130000V_ecnt.txt\n* ensemble_stat_HRRRE_F001_ADPSFC_20180709_130000V_ens.nc\n* ensemble_stat_HRRRE_F001_ADPSFC_20180709_130000V_orank.txt\n* ensemble_stat_HRRRE_F001_ADPSFC_20180709_130000V_phist.txt\n* ensemble_stat_HRRRE_F001_ADPSFC_20180709_130000V_relp.txt\n* ensemble_stat_HRRRE_F001_ADPSFC_20180709_130000V_rhist.txt\n* ensemble_stat_HRRRE_F001_ADPSFC_20180709_130000V_ssvar.txt\n* ensemble_stat_HRRRE_F001_ADPSFC_20180709_130000V.stat\n* ensemble_stat_HRRRE_F002_ADPSFC_20180709_140000V_ecnt.txt\n* ensemble_stat_HRRRE_F002_ADPSFC_20180709_140000V_ens.nc\n* ensemble_stat_HRRRE_F002_ADPSFC_20180709_140000V_orank.txt\n* ensemble_stat_HRRRE_F002_ADPSFC_20180709_140000V_phist.txt\n* ensemble_stat_HRRRE_F002_ADPSFC_20180709_140000V_relp.txt\n* ensemble_stat_HRRRE_F002_ADPSFC_20180709_140000V_rhist.txt\n* ensemble_stat_HRRRE_F002_ADPSFC_20180709_140000V_ssvar.txt\n* ensemble_stat_HRRRE_F002_ADPSFC_20180709_140000V.stat\n\n\n"
      ]
    },
    {
      "cell_type": "markdown",
      "metadata": {},
      "source": [
        "Keywords\n--------\n\n<div class=\"alert alert-info\"><h4>Note</h4><p></p></div>\n `EnsembleStatToolUseCase <https://dtcenter.github.io/METplus/search.html?q=EnsembleStatToolUseCase&check_keywords=yes&area=default>`_,\n `ConvectionAllowingModelsAppUseCase <https://dtcenter.github.io/METplus/search.html?q=ConvectionAllowingModelsAppUseCase&check_keywords=yes&area=default>`_,\n `PB2NCToolUseCase <https://dtcenter.github.io/METplus/search.html?q=PB2NCToolUseCase&check_keywords=yes&area=default>`_,\n `prepBUFRFileUseCase <https://dtcenter.github.io/METplus/search.html?q=prepBUFRFileUseCase&check_keywords=yes&area=default>`_,\n `GRIB2FileUseCase <https://dtcenter.github.io/METplus/search.html?q=GRIB2FileUseCase&check_keywords=yes&area=default>`_,\n `NCAROrgUseCase <https://dtcenter.github.io/METplus/search.html?q=NCAROrgUseCase&check_keywords=yes&area=default>`_,\n `EnsembleAppUseCase <https://dtcenter.github.io/METplus/search.html?q=EnsembleAppUseCase&check_keywords=yes&area=default>`_,\n `ProbabilityGenerationUseCase <https://dtcenter.github.io/METplus/search.html?q=ProbabilityGenerationUseCase&check_keywords=yes&area=default>`_,\n `NOAAGSLOrgUseCase <https://dtcenter.github.io/METplus/search.html?q=NOAAGSLOrgUseCase&check_keywords=yes&area=default>`_,\n `DTCOrgUseCase <https://dtcenter.github.io/METplus/search.html?q=DTCOrgUseCase&check_keywords=yes&area=default>`_,\n `ObsUncertaintyUseCase <https://dtcenter.github.io/METplus/search.html?q=ObsUncertaintyUseCase&check_keywords=yes&area=default>`_,\n `MaskingFeatureUseCase <https://dtcenter.github.io/METplus/search.html?q=MaskingFeatureUseCase&check_keywords=yes&area=default>`_ \n\nsphinx_gallery_thumbnail_path = '_static/convection_allowing_models-EnsembleStat_fcstHRRRE_obsHRRRE_Sfc_MultiField.png'\n\n"
      ]
    }
  ],
  "metadata": {
    "kernelspec": {
      "display_name": "Python 3",
      "language": "python",
      "name": "python3"
    },
    "language_info": {
      "codemirror_mode": {
        "name": "ipython",
        "version": 3
      },
      "file_extension": ".py",
      "mimetype": "text/x-python",
      "name": "python",
      "nbconvert_exporter": "python",
      "pygments_lexer": "ipython3",
      "version": "3.6.10"
    }
  },
  "nbformat": 4,
  "nbformat_minor": 0
}