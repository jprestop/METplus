{
  "cells": [
    {
      "cell_type": "code",
      "execution_count": null,
      "metadata": {
        "collapsed": false
      },
      "outputs": [],
      "source": [
        "%matplotlib inline"
      ]
    },
    {
      "cell_type": "markdown",
      "metadata": {},
      "source": [
        "\nMODE: Hail Verification  \n=========================================================================\n\nmodel_applications/\nconvection_allowing_model/\nMODE_fcstHRRR_obsMRMS_Hail_GRIB2.conf\n\n\n"
      ]
    },
    {
      "cell_type": "markdown",
      "metadata": {},
      "source": [
        "Scientific Objective\n--------------------\n\nTo provide statistical inforation on the forecast hail size compared to the \nobserved hail size from MRMS MESH data.  Using objects to verify hail size\navoids the \"unfair penalty\" issue, where a CAM must first generate convection\nto have any chance of accurately predicting the hail size.  In addition,\nstudies have shown that MRMS MESH observed hail sizes do not correlate one-\nto-one with observed sizes but can only be used to group storms into general\ncategories.  Running MODE allows a user to do this.\n\n"
      ]
    },
    {
      "cell_type": "markdown",
      "metadata": {},
      "source": [
        "Datasets\n--------\n\n * Forecast dataset: HRRRv4 data\n * Observation dataset: MRMS \n\n\n"
      ]
    },
    {
      "cell_type": "markdown",
      "metadata": {},
      "source": [
        "METplus Components\n------------------\n\nThis use case runs MODE to create object statistics on forecast hail size \nfrom the HRRR version 4 model and the observed MRMS MESH hail size.  \n\n"
      ]
    },
    {
      "cell_type": "markdown",
      "metadata": {},
      "source": [
        "METplus Workflow\n----------------\n\nThe MODE tool is run for each time. This example loops by valid time.  It\nprocesses 2 valid times, listed below.\n\n| **Valid:** 2019-05-29_02Z\n| **Forecast lead:** 26\n\n| **Valid:** 2019-05-29_03Z\n| **Forecast lead:** 27\n\n"
      ]
    },
    {
      "cell_type": "markdown",
      "metadata": {},
      "source": [
        "METplus Configuration\n---------------------\n\nMETplus first loads all of the configuration files found in parm/metplus_config,\nthen it loads any configuration files passed to METplus via the command line\nwith the -c option, i.e. -c parm/use_cases/model_applications/convection_allowing_models/MODE_fcstHRRR_obsMRMS_Hail_GRIB2.conf\n\n.. highlight:: bash\n.. literalinclude:: ../../../../parm/use_cases/model_applications/convection_allowing_models/MODE_fcstHRRR_obsMRMS_Hail_GRIB2.conf\n\n"
      ]
    },
    {
      "cell_type": "markdown",
      "metadata": {},
      "source": [
        "MET Configuration\n---------------------\n\nMETplus sets environment variables based on the values in the METplus configuration file.\nThese variables are referenced in the MET configuration file. **YOU SHOULD NOT SET ANY OF THESE ENVIRONMENT VARIABLES YOURSELF! THEY WILL BE OVERWRITTEN BY METPLUS WHEN IT CALLS THE MET TOOLS!** If there is a setting in the MET configuration file that is not controlled by an environment variable, you can add additional environment variables to be set only within the METplus environment using the [user_env_vars] section of the METplus configuration files. See the 'User Defined Config' section on the 'System Configuration' page of the METplus User's Guide for more information.\n\n.. highlight:: bash\n.. literalinclude:: ../../../../parm/use_cases/model_applications/convection_allowing_models/MODEConfig_hailcast\n\nSee the following files for more information about the environment variables set in this configuration file.\n\nparm/use_cases/met_tool_wrapper/MODE/MODE.py\n\n"
      ]
    },
    {
      "cell_type": "markdown",
      "metadata": {},
      "source": [
        "Running METplus\n---------------\n\nThis use case can be run two ways:\n\n1) Passing in MODE_fcstHRRRE_obsMRMS_Hail_GRIB2.conf then a user-specific system configuration file::\n\n       master_metplus.py -c /path/to/METplus/parm/use_cases/model_applications/convection_allowing_models/MODE_fcstHRRRE_obsMRMS_Hail_GRIB2.conf -c /path/to/user_system.conf\n\n2) Modifying the configurations in parm/metplus_config, then passing in MODE_fcstHRRRE_obsMRMS_Hail_GRIB2.conf::\n\n       master_metplus.py -c /path/to/METplus/parm/use_cases/model_applications/convection_allowing_models/MODE_fcstHRRRE_obsMRMS_Hail_GRIB2.conf\n\nThe former method is recommended. Whether you add them to a user-specific configuration file or modify the metplus_config files, the following variables must be set correctly:\n\n* **INPUT_BASE** - Path to directory where sample data tarballs are unpacked (See Datasets section to obtain tarballs). This is not required to run METplus, but it is required to run the examples in parm/use_cases\n* **OUTPUT_BASE** - Path where METplus output will be written. This must be in a location where you have write permissions\n* **MET_INSTALL_DIR** - Path to location where MET is installed locally\n\nExample User Configuration File::\n\n  [dir]\n  INPUT_BASE = /path/to/sample/input/data\n  OUTPUT_BASE = /path/to/output/dir\n  MET_INSTALL_DIR = /path/to/met-X.Y \n\n**NOTE:** All of these items must be found under the [dir] section.\n\n\n"
      ]
    },
    {
      "cell_type": "markdown",
      "metadata": {},
      "source": [
        "Expected Output\n---------------\n\nA successful run will output the following both to the screen and to the logfile::\n\n  INFO: METplus has successfully finished running.\n\nRefer to the value set for **OUTPUT_BASE** to find where the output data was generated.\nOutput for this use case will be found in hailtest (relative to **OUTPUT_BASE**)\nand will contain the following files:\n\nmode_260000L_20190529_020000V_010000A_cts.txt\nmode_260000L_20190529_020000V_010000A_obj.nc\nmode_260000L_20190529_020000V_010000A_obj.txt\nmode_260000L_20190529_020000V_010000A.ps\nmode_270000L_20190529_030000V_010000A_cts.txt\nmode_270000L_20190529_030000V_010000A_obj.nc\nmode_270000L_20190529_030000V_010000A_obj.txt\nmode_270000L_20190529_030000V_010000A.ps\n\n"
      ]
    },
    {
      "cell_type": "markdown",
      "metadata": {},
      "source": [
        "Keywords\n--------\n\nsphinx_gallery_thumbnail_path = '_static/convection_allowing_models-MODE_fcstHRRRE_obsMRMS_Hail_GRIB2.png'\n\n<div class=\"alert alert-info\"><h4>Note</h4><p>`MODEToolUseCase <https://dtcenter.github.io/METplus/search.html?q=MODEToolUseCase&check_keywords=yes&area=default>`_,</p></div>\n `ConvectionAllowingModelsAppUseCase <https://dtcenter.github.io/METplus/search.html?q=ConvectionAllowingModelsAppUseCase&check_keywords=yes&area=default>`_,\n `GRIB2FileUseCase <https://dtcenter.github.io/METplus/search.html?q=GRIB2FileUseCase&check_keywords=yes&area=default>`_,\n `RegriddingInToolUseCase <https://dtcenter.github.io/METplus/search.html?q=RegriddingInToolUseCase&check_keywords=yes&area=default>`_,\n `NOAAHWTOrgUseCase  <https://dtcenter.github.io/METplus/search.html?q=NOAAHWTOrgUseCase&check_keywords=yes&area=default>`_,\n `NCAROrgUseCase <https://dtcenter.github.io/METplus/search.html?q=NCAROrgUseCase&check_keywords=yes&area=default>`_,\n `DiagnosticsUseCase <https://dtcenter.github.io/METplus/search.html?q=DiagnosticsUseCase&check_keywords=yes&area=default>`_\n\n"
      ]
    }
  ],
  "metadata": {
    "kernelspec": {
      "display_name": "Python 3",
      "language": "python",
      "name": "python3"
    },
    "language_info": {
      "codemirror_mode": {
        "name": "ipython",
        "version": 3
      },
      "file_extension": ".py",
      "mimetype": "text/x-python",
      "name": "python",
      "nbconvert_exporter": "python",
      "pygments_lexer": "ipython3",
      "version": "3.6.10"
    }
  },
  "nbformat": 4,
  "nbformat_minor": 0
}