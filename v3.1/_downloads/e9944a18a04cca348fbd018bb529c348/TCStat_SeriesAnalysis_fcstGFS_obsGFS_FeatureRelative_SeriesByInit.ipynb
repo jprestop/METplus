{
  "cells": [
    {
      "cell_type": "code",
      "execution_count": null,
      "metadata": {
        "collapsed": false
      },
      "outputs": [],
      "source": [
        "%matplotlib inline"
      ]
    },
    {
      "cell_type": "markdown",
      "metadata": {},
      "source": [
        "\nMulti_Tool: Feature Relative by Init \n===================================================================================\n\nmodel_applications/medium_range/TCStat_SeriesAnalysis_fcstGFS\n_obsGFS_FeatureRelative\n_SeriesByInit.conf\n\n\n"
      ]
    },
    {
      "cell_type": "markdown",
      "metadata": {},
      "source": [
        "Scientific Objective\n--------------------\n\nBy maintaining focus of each evaluation time (or evaluation time series, in this case)\non a user-defined area around a cyclone, the model statistical errors associated\nwith cyclonic physical features (moisture flux, stability, strength of upper-level PV\nanomaly and jet, etc.) can be related directly to the model forecasts and provide\nimprovement guidance by accurately depicting interactions with significant weather\nfeatures around and within the cyclone. This is in contrast to the traditional\nmethod of regional averaging cyclone observations in a fixed grid, which \"smooths out\"\nsystem features and limits the meaningful metrics that can be gathered.\n\n"
      ]
    },
    {
      "cell_type": "markdown",
      "metadata": {},
      "source": [
        "Datasets\n--------\n\nRelevant information about the datasets that would be beneficial include:\n\n * TC-Pairs/TC-Stat Forecast dataset: ADeck modified-ATCF tropical cyclone data\n * Series-Analysis Forecast dataset: GFS\n * TC-Pairs/TC-Stat Observation dataset: BDeck modified-ATCF tropical cyclone data\n * Series-Analysis Observation dataset: GFS Analysis\n\n\n"
      ]
    },
    {
      "cell_type": "markdown",
      "metadata": {},
      "source": [
        "METplus Components\n------------------\n\nThis use case first runs TCPairs and ExtractTiles to generate matched\ntropical cyclone data and regrid them into appropriately-sized tiles\nalong a storm track. The MET tc-stat tool is used to filter the\ntrack data, and the MET regrid-dataplane tool is used to regrid the\ndata (GRIB1 or GRIB2 into netCDF). Next, a series analysis by init time is\nperformed on the results and plots (.ps and .png) are generated for all\nvariable-level-stat combinations from the specified variables, levels, and\nrequested statistics.\n\n"
      ]
    },
    {
      "cell_type": "markdown",
      "metadata": {},
      "source": [
        "METplus Workflow\n----------------\n\nThe following tools are used for each run time:\nTCPairs > RegridDataPlane, TCStat > SeriesAnalysis\n\nThis example loops by initialization time. For each initialization time\nit will process forecast leads 6, 12, 18, 24, 30, 36, and 40. There is only one\ninitialization time in this example, so the following will be run:\n\nRun times:\n\n| **Init:** 20141214_0Z\n| **Forecast lead:** 6\n\n| **Init:** 20141214_0Z\n| **Forecast lead:** 12\n\n| **Init:** 20141214_0Z\n| **Forecast lead:** 18\n\n| **Init:** 20141214_0Z\n| **Forecast lead:** 24\n\n| **Init:** 20141214_0Z\n| **Forecast lead:** 30\n\n| **Init:** 20141214_0Z\n| **Forecast lead:** 36\n\n| **Init:** 20141214_0Z\n| **Forecast lead:** 42\n\n\n"
      ]
    },
    {
      "cell_type": "markdown",
      "metadata": {},
      "source": [
        "METplus Configuration\n---------------------\n\nMETplus first loads all of the configuration files found in parm/metplus_config,\nthen it loads any configuration files passed to METplus via the command line\nwith the -c option, i.e. -c parm/use_cases/model_applications/medium_range/TCStat_SeriesAnalysis_fcstGFS_obsGFS_FeatureRelative_SeriesByInit.conf\n\n.. highlight:: bash\n.. literalinclude:: ../../../../parm/use_cases/model_applications/medium_range/TCStat_SeriesAnalysis_fcstGFS_obsGFS_FeatureRelative_SeriesByInit.conf\n\n"
      ]
    },
    {
      "cell_type": "markdown",
      "metadata": {},
      "source": [
        "MET Configuration\n---------------------\n\nMETplus sets environment variables based on the values in the METplus configuration file.\nThese variables are referenced in the MET configuration file. **YOU SHOULD NOT SET ANY OF THESE ENVIRONMENT VARIABLES YOURSELF! THEY WILL BE OVERWRITTEN BY METPLUS WHEN IT CALLS THE MET TOOLS!** If there is a setting in the MET configuration file that is not controlled by an environment variable, you can add additional environment variables to be set only within the METplus environment using the [user_env_vars] section of the METplus configuration files. See the 'User Defined Config' section on the 'System Configuration' page of the METplus User's Guide for more information.\n\n.. highlight:: bash\n.. literalinclude:: ../../../../parm/use_cases/model_applications/medium_range/TCPairsETCConfig\n.. literalinclude:: ../../../../parm/use_cases/model_applications/medium_range/TCStatConfig\n.. literalinclude:: ../../../../parm/use_cases/model_applications/medium_range/SeriesAnalysisConfig\n\nSee the following files for more information about the environment variables set in these configuration files.\n\nparm/use_cases/met_tool_wrapper/TCPairs/TCPairs.py\nparm/use_cases/met_tool_wrapper/SeriesByInit/SeriesByInit.py\n\n\n"
      ]
    },
    {
      "cell_type": "markdown",
      "metadata": {},
      "source": [
        "Running METplus\n---------------\n\nThis use case can be run two ways:\n\n1) Passing in TCStat_SeriesAnalysis_fcstGFS_obsGFS_FeatureRelative_SeriesByInit.conf then a user-specific system configuration file::\n\n       master_metplus.py -c /path/to/METplus/parm/use_cases/model_applications/medium_range/TCStat_SeriesAnalysis_fcstGFS_obsGFS_FeatureRelative_SeriesByInit.conf -c /path/to/user_system.conf\n\n2) Modifying the configurations in parm/metplus_config, then passing in TCStat_SeriesAnalysis_fcstGFS_obsGFS_FeatureRelative_SeriesByInit.conf::\n\n       master_metplus.py -c /path/to/METplus/parm/use_cases/model_applications/medium_range/TCStat_SeriesAnalysis_fcstGFS_obsGFS_FeatureRelative_SeriesByInit.conf\n\nThe former method is recommended. Whether you add them to a user-specific configuration file or modify the metplus_config files, the following variables must be set correctly:\n\n* **INPUT_BASE** - Path to directory where sample data tarballs are unpacked (See Datasets section to obtain tarballs). This is not required to run METplus, but it is required to run the examples in parm/use_cases\n* **OUTPUT_BASE** - Path where METplus output will be written. This must be in a location where you have write permissions\n* **MET_INSTALL_DIR** - Path to location where MET is installed locally\n\n\n and for the [exe] section, you will need to define the location of\n NON-MET executables.  If the executable is in the user's path, METplus will find it from\n the name. If the executable is not in the path, specify the full\n path to the executable here (i.e. RM = /bin/rm)  The following executables are required\n for performing series analysis use cases:\n\n If the executables are in the path:\n\n* **RM = rm**\n* **CUT = cut**\n* **TR = tr**\n* **NCAP2 = ncap2**\n* **CONVERT = convert**\n* **NCDUMP = ncdump**\n\n**NOTE:** All of these executable items must be located under the [exe] section.\n\n\nIf the executables are not in the path, they need to be defined:\n\n* **RM = /path/to/rm**\n* **CUT = /path/to/cut**\n* **TR = /path/to/tr**\n* **NCAP2 = /path/to/ncap2**\n* **CONVERT = /path/to/convert**\n* **NCDUMP= /path/to/ncdump**\n\n**NOTE:** All of these executable items must be located under the [exe] section.\nExample User Configuration File::\n\n  [dir]\n  INPUT_BASE = /path/to/sample/input/data\n  OUTPUT_BASE = /path/to/output/dir\n  MET_INSTALL_DIR = /path/to/met-X.Y\n\n  [exe]\n  RM = /path/to/rm\n  CUT = /path/to/cut\n  TR = /path/to/tr\n  NCAP2 = /path/to/ncap2\n  CONVERT = /path/to/convert\n  NCDUMP = /path/to/ncdump\n\n**NOTE:** The INPUT_BASE, OUTPUT_BASE, and MET_INSTALL_DIR must be located under the [dir] section, while the RM, CUT, TR, NCAP2, CONVERT, and NCDUMP must be located under the [exe] section.\n\n"
      ]
    },
    {
      "cell_type": "markdown",
      "metadata": {},
      "source": [
        "Expected Output\n---------------\n\nA successful run will output the following both to the screen and to the logfile::\n\n  INFO: METplus has successfully finished running.\n\nRefer to the value set for **OUTPUT_BASE** to find where the output data was generated.\nOutput for this use case will be found in series_analysis_init/20141214_00 (relative to **OUTPUT_BASE**)\nand will contain the following subdirectories:\n\n* ML1200942014\n* ML1200942014\n* ML1200942014\n* ML1201002014\n* ML1201032014\n* ML1201042014\n* ML1201052014\n* ML1201062014\n* ML1201072014\n* ML1201082014\n* ML1201092014\n* ML1201102014\n\nEach subdirectory will contain files that have the following format:\n\nANLY_ASCII_FILES_<storm>\n\nFCST_ASCII_FILES_<storm>\n\nseries_<varname>_<level>_<stat>.png\n\nseries_<varname>_<level>_<stat>.ps\n\nseries_<varname>_<level>_<stat>.nc\n\n\n"
      ]
    },
    {
      "cell_type": "markdown",
      "metadata": {},
      "source": [
        "Keywords\n--------\n\nsphinx_gallery_thumbnail_path = '_static/medium_range-TCStat_SeriesAnalysis_fcstGFS_obsGFS_FeatureRelative_SeriesByInit.png'\n\n<div class=\"alert alert-info\"><h4>Note</h4><p>`TCStatToolUseCase <https://dtcenter.github.io/METplus/search.html?q=TCStatToolUseCase&check_keywords=yes&area=default>`_, `SeriesByInitUseCase <https://dtcenter.github.io/METplus/search.html?q=SeriesByInitUseCase&check_keywords=yes&area=default>`_, `RegridDataPlaneToolUseCase <https://dtcenter.github.io/METplus/search.html?q=RegridDataPlaneToolUseCase&check_keywords=yes&area=default>`_, `MediumRangeAppUseCase <https://dtcenter.github.io/METplus/search.html?q=MediumRangeAppUseCase&check_keywords=yes&area=default>`_,  `SeriesAnalysisUseCase <https://dtcenter.github.io/METplus/search.html?q=SeriesAnalysisUseCase&check_keywords=yes&area=default>`_, `GRIB2FileUseCase <https://dtcenter.github.io/METplus/search.html?q=GRIB2FileUseCase&check_keywords=yes&area=default>`_, `TCPairsToolUseCase <https://dtcenter.github.io/METplus/search.html?q=TCPairsToolUseCase&check_keywords=yes&area=default>`_, `FeatureRelativeUseCase <https://dtcenter.github.io/METplus/search.html?q=FeatureRelativeUseCase&check_keywords=yes&area=default>`_, `SBUOrgUseCase <https://dtcenter.github.io/METplus/search.html?q=SBUOrgUseCase&check_keywords=yes&area=default>`_, `DiagnosticsUseCase <https://dtcenter.github.io/METplus/search.html?q=DiagnosticsUseCase&check_keywords=yes&area=default>`_</p></div>\n\n"
      ]
    }
  ],
  "metadata": {
    "kernelspec": {
      "display_name": "Python 3",
      "language": "python",
      "name": "python3"
    },
    "language_info": {
      "codemirror_mode": {
        "name": "ipython",
        "version": 3
      },
      "file_extension": ".py",
      "mimetype": "text/x-python",
      "name": "python",
      "nbconvert_exporter": "python",
      "pygments_lexer": "ipython3",
      "version": "3.6.10"
    }
  },
  "nbformat": 4,
  "nbformat_minor": 0
}