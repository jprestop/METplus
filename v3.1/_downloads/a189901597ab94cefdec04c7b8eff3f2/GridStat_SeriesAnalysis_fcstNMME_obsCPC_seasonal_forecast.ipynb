{
  "cells": [
    {
      "cell_type": "code",
      "execution_count": null,
      "metadata": {
        "collapsed": false
      },
      "outputs": [],
      "source": [
        "%matplotlib inline"
      ]
    },
    {
      "cell_type": "markdown",
      "metadata": {},
      "source": [
        "\nGrid-Stat and Series-Analysis: BMKG APIK Seasonal Forecast \n=============================================================================\n\nmodel_applications/s2s/GridStat_SeriesAnalysis\n_fcstNMME_obsCPC\n_seasonal_forecast.conf\n\n\n"
      ]
    },
    {
      "cell_type": "markdown",
      "metadata": {},
      "source": [
        "Scientific Objective\n--------------------\n\nThe process of seasonal forecasting with a time horizon of one to many months\n(typically 6 to 9 months) poses new challenges to tools primarily developed for\nweather forecasting that cover a few days. These challenges include two aspects\nin particular: (1) a dramatically expanded time variable, and (2) a verification\nthat is by design backward oriented using extensive hindcasts over past decades\nrather than the rapid verification possible in short-range weather forecasting.\nTherefore, the scientific objective of the seasonal forecast usecase involves\nthe expansion of options to describe time as well as the strategic selection\nof hindcasts.\n\nTime:\n Commonly METplus expresses time intervals in the minutes, hours, and days. \n Month and year intervals were not supported since there is not a constant length for these units.\n Therefore, modifications to METplus were made to support these intervals by determining the offset\n relative to a given time.\n\nInput data:\n The input data from seasonal forecasts is generally based on daily, weekly, decadal\n (10-day), monthly or seasonal time integrated intervals. The time variable therefore is\n often no longer a simple snapshot of the system but rather representing an average, a\n sum (precipitation), or a particular statistic (maximum wind, minimum temperature, wind\n variability) over the integration time period. This requires some adjustment from the\n traditional approach in forecast verification where forecast time (\"valid-time\") is\n simply a snapshot out of a continuous run.\n\nHindcasts:\n The objective of seasonal forecasts is no longer the exact location and intensity\n of one particular weather event, such as a storm, a frontal passage, or high wind\n conditions. Rather, seasonal forecasting focuses more on the statistical properties\n over a period of time, be it a 10-day interval, a month, or even a three month season.\n The verification of a new, forward looking seasonal forecast requires assessments of\n the forecast systems ability to appropriately forecast that longrange behavior of the\n weather (here, only atmospheric verification is considered, but the same concept would\n apply ocean or any other longrange forecast system). Because weather properties\n commonly change significantly over the course of the season, samples to verify the\n prognostic system can not be taken from the immediate days, weeks of months before the\n forecast. Hindcasting in the seasonal context requires a complete set of forecasts\n based on the same season but during past years. A current July-1 2019 forecast, therefore\n requires many July-1 forecasts for as many years in the past as possible, given that\n the forecast system is the same as the one used for the current forecast cycle into the\n future. Operational centers offer hindcasts, also sometimes called \"re-forecasts\", with\n the current, most up-to-date forecast system. MET and METplus therefore need to be able\n to extract the appropriate collection of past forecasts. This includes the identification\n of the same Julian-day-of-Year init-dates from forecasts cycles from past years, and then\n identify the different lead-times of interest generally ranging from one to 6 or more\n months.\n\nVerification:\n The verification steps can then utilize the existing collection of verification tools.\n In comparison to weather forecasts, the only difference is that the data, as stated\n above, are not snapshots but time-integrated values (averages, sums, statistics) that\n are representing a whole period of time. The verification then focuses on comparisons\n of these derivatives of the forecast simulations. In practice, a further step might be\n added prior to, or as a key step during verification: the formation of anomalies of the\n forecasts compared to long-term expected averages. A rainfall forecasts can therefore\n be verified in both absolute as well as anomaly context where some analyses might focus\n on extreme rainfall threshold exeedance of, for example, 500mm per month. At the same\n time, the same forecast might be verified for the 3 months rainfall average in comparison\n with the long-term expected mean. The verification might then assess how well the system\n can foresee the occurrence of below average rainfall over the season, and possibly some\n selected thresholds there (e.g., ability to forecast mean seasonal rainfall below\n the 10-th percentile of seasonal rainfall). Finally, flexibility in formulating forecast\n verification strategies is important as forecast skill might vary by location, the timing\n within the seasonal cycle, or the state of the evolving coupled system (the rapid onset\n of a strong El Nino will lead to significantly different forecast skill compared to a\n neutral state in the Pacific). Memory from past months, for example when considering\n accumulated soil moisture, might also influence the forecast skills. Seasonal forecast\n verification therefore requires understanding of the climate system; MET and METplus\n then need to offer the flexibility to tailor verification strategies and to potentially\n craft conditional approaches.\n\n Overall, seasonal forecasts don't require a new verification approach. It does however\n put demands on the flexibility of dealing with a significantly exapanded range of the\n time variable as well as logistic infrastructure to select appropriate hindcast samples\n from long hindcast or re-forecast archives. Scientifically, the challenges are mostly\n restricted in the appropriate formulation of verificaation questions that address\n specific forecast objectives. Compared to weather forecastsing, seasonal forecasts need\n to draw their skill from slowly changing components in the coupled Earth system while\n acknowledging the high-frequency noise of weather superposed on these 'climatologically'\n evolving background conditions. In many regions of the world, the noise might dominate\n that background climate and forecast skill is low. It is therefore the task of seasonal\n forecast verification to identify where there is actually skill for particular properties\n of the forecasts over a wide range of lead-times. The skill might be dependent on\n location, on the timing within the seasonal cycle, or even on the evolving state of the\n coupled system.\n\n"
      ]
    },
    {
      "cell_type": "markdown",
      "metadata": {},
      "source": [
        "Datasets\n--------\n\n\nAll datasets are traditionally in netCDF format. Grids are either regular gaussian\nLatitude/Longitude grids or they are Lambert-conformal WRF grids.\n\nThe forecast datasets contain weekly, monthly or seasonally integrated data. Here, the\ntime format of the use-case is monthly. Since the verification is done on the hindcasts\nrather than the forecast (would require another 6 months of waiting), the key\nidentification here is the month of initialization and then the lead-time of the forecast\nof interest.\n\nThe hindcast data, the 'observational' data that is to be compared to the forecast,\nis a collection of datasets formatted in equivalent format to the forecast. The\nhindcast ensemble is identified through the year in the filename (as well as in the\ntime variable inside the netCDF file).\n\n\nForecast Datasets:\n\nNMME\n* variable of interest: pr (precipitation: cumulative monthly sum)\n* format of precipitation variable: time,lat,lon (here dimensions: 29,181,361) with time variable representing 29 samples of same Julian Init-Time of hindcasts over past 29 years.\n\nHindcast Datasets:\n\nObservational Dataset:\n\n* CPC precipitation reference data (same format and grid)\n\n\n"
      ]
    },
    {
      "cell_type": "markdown",
      "metadata": {},
      "source": [
        "METplus Components\n------------------\n\nThis use case loops over initialization years and processes forecast lead months with GridStat\nIt also processes the output of GridStat using two calls to SeriesAnalysis.\n\n\n"
      ]
    },
    {
      "cell_type": "markdown",
      "metadata": {},
      "source": [
        "METplus Workflow\n----------------\n\nThe following tools are used for each run time: GridStat\n\nThis example loops by initialization time. Each initialization time is July of each year from 1982 to 2010. For each init time it will run once, processing forecast leads 1 month through 5 months. The following times are processed:\n\nRun times:\n\n| **Init:** 1982-07\n| **Forecast leads:** 1 month, 2 months, 3 months, 4 months, 5 months\n\n| **Init:** 1983-07\n| **Forecast leads:** 1 month, 2 months, 3 months, 4 months, 5 months\n\n| **Init:** 1984-07\n| **Forecast leads:** 1 month, 2 months, 3 months, 4 months, 5 months\n\n| **Init:** 1985-07\n| **Forecast leads:** 1 month, 2 months, 3 months, 4 months, 5 months\n\n...\n\n| **Init:** 2009-07\n| **Forecast leads:** 1 month, 2 months, 3 months, 4 months, 5 months\n\n| **Init:** 2010-07\n| **Forecast leads:** 1 month, 2 months, 3 months, 4 months, 5 months\n\n\n"
      ]
    },
    {
      "cell_type": "markdown",
      "metadata": {},
      "source": [
        "METplus Configuration\n---------------------\n\n.. highlight:: bash\n.. literalinclude:: ../../../../parm/use_cases/model_applications/s2s/GridStat_SeriesAnalysis_fcstNMME_obsCPC_seasonal_forecast.conf\n\n\n"
      ]
    },
    {
      "cell_type": "markdown",
      "metadata": {},
      "source": [
        "MET Configuration\n---------------------\n\nMETplus sets environment variables based on the values in the METplus configuration file.\nThese variables are referenced in the MET configuration file. **YOU SHOULD NOT SET ANY OF THESE ENVIRONMENT VARIABLES YOURSELF! THEY WILL BE OVERWRITTEN BY METPLUS WHEN IT CALLS THE MET TOOLS!** If there is a setting in the MET configuration file that is not controlled by an environment variable, you can add additional environment variables to be set only within the METplus environment using the [user_env_vars] section of the METplus configuration files. See the 'User Defined Config' section on the 'System Configuration' page of the METplus User's Guide for more information.\n\n**GridStatConfig_seasonal_forecast**\n\n.. highlight:: bash\n.. literalinclude:: ../../../../parm/use_cases/model_applications/s2s/GridStatConfig_seasonal_forecast\n\nSee the following file for more information about the environment variables set in this configuration file::\n  parm/use_cases/met_tool_wrapper/GridStat/GridStat.py\n\n**SeriesAnalysisConfig_seasonal_forecast_climo**\n\n.. highlight:: bash\n.. literalinclude:: ../../../../parm/use_cases/model_applications/s2s/SeriesAnalysisConfig_seasonal_forecast_climo\n\n**SeriesAnalysisConfig_seasonal_forecast_full_stats**\n\n.. highlight:: bash\n.. literalinclude:: ../../../../parm/use_cases/model_applications/s2s/SeriesAnalysisConfig_seasonal_forecast_full_stats\n\nSee the following file for more information about the environment variables set in these configuration files::\n  parm/use_cases/met_tool_wrapper/SeriesAnalysis/SeriesAnalysis.conf\n\n\n"
      ]
    },
    {
      "cell_type": "markdown",
      "metadata": {},
      "source": [
        "Running METplus\n---------------\nThis use case can be run two ways:\n\n1) Passing in GridStat_SeriesAnalysis_fcstNMME_obsCPC_seasonal_forecast.conf then a user-specific system configuration file::\n\n       master_metplus.py -c /path/to/METplus/parm/use_cases/model_applications/s2s/GridStat_SeriesAnalysis_fcstNMME_obsCPC_seasonal_forecast.conf -c /path/to/user_system.conf\n\n2) Modifying the configurations in parm/metplus_config, then passing in GridStat_SeriesAnalysis_fcstNMME_obsCPC_seasonal_forecast.conf::\n\n       master_metplus.py -c /path/to/METplus/parm/use_cases/model_applications/s2s/GridStat_SeriesAnalysis_fcstNMME_obsCPC_seasonal_forecast.conf\n\nThe former method is recommended. Whether you add them to a user-specific configuration file or modify the metplus_config files, the following variables must be set correctly:\n\n* **INPUT_BASE** - Path to directory where sample data tarballs are unpacked (See Datasets section to obtain tarballs). This is not required to run METplus, but it is required to run the examples in parm/use_cases\n* **OUTPUT_BASE** - Path where METplus output will be written. This must be in a location where you have write permissions\n* **MET_INSTALL_DIR** - Path to location where MET is installed locally\n\nExample User Configuration File::\n\n  [dir]\n  INPUT_BASE = /path/to/sample/input/data\n  OUTPUT_BASE = /path/to/output/dir\n  MET_INSTALL_DIR = /path/to/met-X.Y\n\n**NOTE:** All of these items must be found under the [dir] section.\n\n\n\n"
      ]
    },
    {
      "cell_type": "markdown",
      "metadata": {},
      "source": [
        "Expected Output\n---------------\n\nA successful run will output the following both to the screen and to the logfile::\n\n  INFO: METplus has successfully finished running.\n\nRefer to the value set for **OUTPUT_BASE** to find where the output data was generated.\nOutput for this use case will be found in model_applications/s2s/GridStat_SeriesAnalysis_fcstNMME_obsCPC_seasonal_forecast/GridStat (relative to **OUTPUT_BASE**)\n\nFor each month and year there will be two files written::\n\n* grid_stat_NMME-hindcast_precip_vs_CPC_IC{%Y%b}01_2301360000L_20081001_000000V.stat\n* grid_stat_NMME-hindcast_precip_vs_CPC_IC{%Y%b}01_2301360000L_20081001_000000V_pairs.nc\n\nOutput from SeriesAnalysis will be found in model_applications/s2s/GridStat_SeriesAnalysis_fcstNMME_obsCPC_seasonal_forecast/SeriesAnalysis (relative to **OUTPUT_BASE**)\n\nFor each month there will be two files written::\n\n* series_analysis_NMME_CPC_stats_ICJul_{%m}_climo.nc\n* series_analysis_NMME_CPC_stats_ICJul_{%m}_full_stats.nc\n\n\n"
      ]
    },
    {
      "cell_type": "markdown",
      "metadata": {},
      "source": [
        "Keywords\n--------\n\n<div class=\"alert alert-info\"><h4>Note</h4><p>`GridStatToolUseCase <https://dtcenter.github.io/METplus/search.html?q=GridStatToolUseCase&check_keywords=yes&area=default>`_,\n   `NetCDFFileUseCase <https://dtcenter.github.io/METplus/search.html?q=NetCDFFileUseCase&check_keywords=yes&area=default>`_,\n   `LoopByMonthFeatureUseCase  <https://dtcenter.github.io/METplus/search.html?q=LoopByMonthFeatureUseCase&check_keywords=yes&area=default>`_,\n   `NCAROrgUseCase  <https://dtcenter.github.io/METplus/search.html?q=NCAROrgUseCase&check_keywords=yes&area=default>`_\n   `CustomStringLoopingUseCase  <https://dtcenter.github.io/METplus/search.html?q=CustomStringLoopingUseCase&check_keywords=yes&area=default>`_</p></div>\n\nsphinx_gallery_thumbnail_path = '_static/s2s-GridStat_SeriesAnalysis_fcstNMME_obsCPC_seasonal_forecast.png'\n\n\n"
      ]
    }
  ],
  "metadata": {
    "kernelspec": {
      "display_name": "Python 3",
      "language": "python",
      "name": "python3"
    },
    "language_info": {
      "codemirror_mode": {
        "name": "ipython",
        "version": 3
      },
      "file_extension": ".py",
      "mimetype": "text/x-python",
      "name": "python",
      "nbconvert_exporter": "python",
      "pygments_lexer": "ipython3",
      "version": "3.6.10"
    }
  },
  "nbformat": 4,
  "nbformat_minor": 0
}