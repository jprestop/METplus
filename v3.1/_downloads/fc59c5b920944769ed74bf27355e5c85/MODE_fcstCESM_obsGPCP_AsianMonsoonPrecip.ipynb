{
  "cells": [
    {
      "cell_type": "code",
      "execution_count": null,
      "metadata": {
        "collapsed": false
      },
      "outputs": [],
      "source": [
        "%matplotlib inline"
      ]
    },
    {
      "cell_type": "markdown",
      "metadata": {},
      "source": [
        "\n# MODE: CESM and GPCP Asian Monsoon Precipitation \nmodel_applications/climate/MODE_fcstCESM_obsGPCP_AsianMonsoonPrecip.conf\n\n"
      ]
    },
    {
      "cell_type": "markdown",
      "metadata": {},
      "source": [
        "## Scientific Objective\n\nTo evaluate the CESM model daily precipitation against the GPCP daily \nprecipitation over the Indian Monsoon region to obtain object based\noutput statistics. This was developed as part of the NCAR System for\nIntegrated Modeling of the Atmosphere (SIMA) project. \n\n"
      ]
    },
    {
      "cell_type": "markdown",
      "metadata": {},
      "source": [
        "## Datasets\n\n * Forecast dataset: CESM Daily Precipitation\n * Observation dataset: GPCP Daily Precipitation\n\n\n"
      ]
    },
    {
      "cell_type": "markdown",
      "metadata": {},
      "source": [
        "## METplus Components\n\nThis use case runs mode to create object based statistics on daily \nprecipitation data from the CESM model and observations from the GPCP. \n\n"
      ]
    },
    {
      "cell_type": "markdown",
      "metadata": {},
      "source": [
        "## METplus Workflow\n\nThe mode tool is run for each time. This example loops by model \ninitialization time.  It processes 4 valid times, listed below.\n\n| **Valid:** 2014-08-02\n| **Forecast lead:** 24\n\n| **Init:** 2014-08-03\n| **Forecast lead:** 48\n\n| **Init:** 2014-08-03\n| **Forecast lead:** 24\n\n| **Init:** 2014-08-04\n| **Forecast lead:** 48\n\n"
      ]
    },
    {
      "cell_type": "markdown",
      "metadata": {},
      "source": [
        "## METplus Configuration\n\nMETplus first loads all of the configuration files found in parm/metplus_config,\nthen it loads any configuration files passed to METplus via the command line\nwith the -c option, i.e. -c parm/use_cases/model_applications/climate/MODE_fcstCESM_obsGPCP_AsianMonsoonPrecip.conf\n\n.. highlight:: bash\n.. literalinclude:: ../../../../parm/use_cases/model_applications/climate/MODE_fcstCESM_obsGPCP_AsianMonsoonPrecip.conf\n\n"
      ]
    },
    {
      "cell_type": "markdown",
      "metadata": {},
      "source": [
        "## MET Configuration\n\nMETplus sets environment variables based on the values in the METplus configuration file.\nThese variables are referenced in the MET configuration file. **YOU SHOULD NOT SET ANY OF THESE ENVIRONMENT VARIABLES YOURSELF! THEY WILL BE OVERWRITTEN BY METPLUS WHEN IT CALLS THE MET TOOLS!** If there is a setting in the MET configuration file that is not controlled by an environment variable, you can add additional environment variables to be set only within the METplus environment using the [user_env_vars] section of the METplus configuration files. See the 'User Defined Config' section on the 'System Configuration' page of the METplus User's Guide for more information.\n\n.. highlight:: bash\n.. literalinclude:: ../../../../parm/use_cases/model_applications/climate/MODEConfig_cesm_gpcp\n\nSee the following files for more information about the environment variables set in this configuration file.\n\nparm/use_cases/met_tool_wrapper/MODE/MODE.py\n\n"
      ]
    },
    {
      "cell_type": "markdown",
      "metadata": {},
      "source": [
        "## Running METplus\n\nThis use case can be run two ways:\n\n1) Passing in MODE_fcstCESM_obsGPCP_ConusPrecip.conf then a user-specific system configuration file::\n\n       master_metplus.py -c /path/to/METplus/parm/use_cases/model_applications/climate/MODE_fcstCESM_obsGPCP_AsianMonsoonPrecip.conf -c /path/to/user_system.conf\n\n2) Modifying the configurations in parm/metplus_config, then passing in MODE_fcstCESM_obsGPCP_AsianMonsoonPrecip.conf::\n\n       master_metplus.py -c /path/to/METplus/parm/use_cases/model_applications/climate/MODE_fcstCESM_obsGPCP_AsianMonsoonPrecip.conf\n\nThe former method is recommended. Whether you add them to a user-specific configuration file or modify the metplus_config files, the following variables must be set correctly:\n\n* **INPUT_BASE** - Path to directory where sample data tarballs are unpacked (See Datasets section to obtain tarballs). This is not required to run METplus, but it is required to run the examples in parm/use_cases\n* **OUTPUT_BASE** - Path where METplus output will be written. This must be in a location where you have write permissions\n* **MET_INSTALL_DIR** - Path to location where MET is installed locally\n\nExample User Configuration File::\n\n  [dir]\n  INPUT_BASE = /path/to/sample/input/data\n  OUTPUT_BASE = /path/to/output/dir\n  MET_INSTALL_DIR = /path/to/met-X.Y \n\n**NOTE:** All of these items must be found under the [dir] section.\n\n"
      ]
    },
    {
      "cell_type": "markdown",
      "metadata": {},
      "source": [
        "## Expected Output\n\nA successful run will output the following both to the screen and to the logfile::\n\n  INFO: METplus has successfully finished running.\n\nRefer to the value set for **OUTPUT_BASE** to find where the output data was generated.\nOutput for this use case will be found in model_applications/climate/CESM_MODE (relative to **OUTPUT_BASE**)\nand will contain the following files:\n\n2014_06_01_000000/mode_000000L_20140602_000000V_000000A_R1_T1_cts.txt\n2014_06_01_000000/mode_000000L_20140602_000000V_000000A_R1_T1_obj.nc\n2014_06_01_000000/mode_000000L_20140602_000000V_000000A_R1_T1_obj.txt\n2014_06_01_000000/mode_000000L_20140602_000000V_000000A_R1_T1.ps\n2014_06_01_000000/mode_000000L_20140602_000000V_000000A_R1_T2_cts.txt\n2014_06_01_000000/mode_000000L_20140602_000000V_000000A_R1_T2_obj.nc\n2014_06_01_000000/mode_000000L_20140602_000000V_000000A_R1_T2_obj.txt\n2014_06_01_000000/mode_000000L_20140602_000000V_000000A_R1_T2.ps\n2014_06_01_000000/mode_000000L_20140603_000000V_000000A_R1_T1_cts.txt\n2014_06_01_000000/mode_000000L_20140603_000000V_000000A_R1_T1_obj.nc\n2014_06_01_000000/mode_000000L_20140603_000000V_000000A_R1_T1_obj.txt\n2014_06_01_000000/mode_000000L_20140603_000000V_000000A_R1_T1.ps\n2014_06_01_000000/mode_000000L_20140603_000000V_000000A_R1_T2_cts.txt\n2014_06_01_000000/mode_000000L_20140603_000000V_000000A_R1_T2_obj.nc\n2014_06_01_000000/mode_000000L_20140603_000000V_000000A_R1_T2_obj.txt\n2014_06_01_000000/mode_000000L_20140603_000000V_000000A_R1_T2.ps\n2014_06_02_000000/mode_000000L_20140603_000000V_000000A_R1_T1_cts.txt\n2014_06_02_000000/mode_000000L_20140603_000000V_000000A_R1_T1_obj.nc\n2014_06_02_000000/mode_000000L_20140603_000000V_000000A_R1_T1_obj.txt\n2014_06_02_000000/mode_000000L_20140603_000000V_000000A_R1_T1.ps\n2014_06_02_000000/mode_000000L_20140603_000000V_000000A_R1_T2_cts.txt\n2014_06_02_000000/mode_000000L_20140603_000000V_000000A_R1_T2_obj.nc\n2014_06_02_000000/mode_000000L_20140603_000000V_000000A_R1_T2_obj.txt\n2014_06_02_000000/mode_000000L_20140603_000000V_000000A_R1_T2.ps\n2014_06_02_000000/mode_000000L_20140604_000000V_000000A_R1_T1_cts.txt\n2014_06_02_000000/mode_000000L_20140604_000000V_000000A_R1_T1_obj.nc\n2014_06_02_000000/mode_000000L_20140604_000000V_000000A_R1_T1_obj.txt\n2014_06_02_000000/mode_000000L_20140604_000000V_000000A_R1_T1.ps\n2014_06_02_000000/mode_000000L_20140604_000000V_000000A_R1_T2_cts.txt\n2014_06_02_000000/mode_000000L_20140604_000000V_000000A_R1_T2_obj.nc\n2014_06_02_000000/mode_000000L_20140604_000000V_000000A_R1_T2_obj.txt\n2014_06_02_000000/mode_000000L_20140604_000000V_000000A_R1_T2.ps\n\n"
      ]
    },
    {
      "cell_type": "markdown",
      "metadata": {},
      "source": [
        "## Keywords\n\nsphinx_gallery_thumbnail_path = '_static/climate-MODE_fcstCESM_obsGPCP_AsianMonsoonPrecip.png'\n\n<div class=\"alert alert-info\"><h4>Note</h4><p>`MODEToolUseCase <https://dtcenter.github.io/METplus/search.html?q=MODEToolUseCase&check_keywords=yes&area=default>`_,</p></div>\n `ClimateAppUseCase <https://dtcenter.github.io/METplus/search.html?q=ClimateAppUseCase&check_keywords=yes&area=default>`_, \n `NetCDFFileUseCase <https://dtcenter.github.io/METplus/search.html?q=NetCDFFileUseCase&chek_keywords=yes&area=default>`_, \n `NCAROrgUseCase <https://dtcenter.github.io/METplus/search.html?q=NCAROrgUseCase&check_keywords=yes&area=default>`_\n\n"
      ]
    }
  ],
  "metadata": {
    "kernelspec": {
      "display_name": "Python 3",
      "language": "python",
      "name": "python3"
    },
    "language_info": {
      "codemirror_mode": {
        "name": "ipython",
        "version": 3
      },
      "file_extension": ".py",
      "mimetype": "text/x-python",
      "name": "python",
      "nbconvert_exporter": "python",
      "pygments_lexer": "ipython3",
      "version": "3.6.3"
    }
  },
  "nbformat": 4,
  "nbformat_minor": 0
}