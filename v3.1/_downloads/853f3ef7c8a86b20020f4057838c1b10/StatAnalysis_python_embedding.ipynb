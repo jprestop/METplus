{
  "cells": [
    {
      "cell_type": "code",
      "execution_count": null,
      "metadata": {
        "collapsed": false
      },
      "outputs": [],
      "source": [
        "%matplotlib inline"
      ]
    },
    {
      "cell_type": "markdown",
      "metadata": {},
      "source": [
        "\nStatAnalysis: Using Python Embedding\n===========================================================================\n\nmet_tool_wrapper/StatAnalysis/StatAnalysis_python_embedding.conf\n\n\n"
      ]
    },
    {
      "cell_type": "markdown",
      "metadata": {},
      "source": [
        "Scientific Objective\n--------------------\n\nThis demonstrates how the Stat-Analysis tool can tie together results from other\nMET tools (including PointStat, GridStat, EnsembleStat, and WaveletStat)\nand provide summary statistical information. Matched pair records are passed into\nStat-Analysis using python embedding.\n\n"
      ]
    },
    {
      "cell_type": "markdown",
      "metadata": {},
      "source": [
        "Datasets\n--------\n\n\n| **WRF ARW point_stat output STAT files:**\n|     ...met_test/new\n|         point_stat_120000L_20050807_120000V.stat\n\n| **Location:** All of the input data required for this use case can be found in the met_test sample data tarball. Click here to the METplus releases page and download sample data for the appropriate release: https://github.com/dtcenter/METplus/releases\n| The tarball should be unpacked into the directory that you will set the value of INPUT_BASE. See 'Running METplus' section for more information.\n| **Data Source:** WRF\n\n"
      ]
    },
    {
      "cell_type": "markdown",
      "metadata": {},
      "source": [
        "METplus Components\n------------------\n\nThis use case utilizes the METplus StatAnalysis wrapper to search for\nfiles that are valid at a given run time and generate a command to run\nthe MET tool stat_analysis.\n\n"
      ]
    },
    {
      "cell_type": "markdown",
      "metadata": {},
      "source": [
        "METplus Workflow\n----------------\n\nStatAnalysis is the only tool called in this example. It processes the following\nrun times:\n\n| **Valid:** 2005-08-07_00Z  \n| **Forecast lead:** 12 hour\n\n"
      ]
    },
    {
      "cell_type": "markdown",
      "metadata": {},
      "source": [
        "METplus Configuration\n---------------------\n\nMETplus first loads all of the configuration files found in parm/metplus_config,\nthen it loads any configuration files passed to METplus via the command line\nwith the -c option, i.e. -c parm/use_cases/met_tool_wrapper/StatAnalysis/StatAnalysis.conf\n\n.. highlight:: bash\n.. literalinclude:: ../../../../parm/use_cases/met_tool_wrapper/StatAnalysis/StatAnalysis_python_embedding.conf\n\n"
      ]
    },
    {
      "cell_type": "markdown",
      "metadata": {},
      "source": [
        "MET Configuration\n---------------------\n\nMETplus sets environment variables based on the values in the METplus configuration file.\nThese variables are referenced in the MET configuration file. **YOU SHOULD NOT SET ANY OF THESE ENVIRONMENT VARIABLES YOURSELF! THEY WILL BE OVERWRITTEN BY METPLUS WHEN IT CALLS THE MET TOOLS!** If there is a setting in the MET configuration file that is not controlled by an environment variable, you can add additional environment variables to be set only within the METplus environment using the [user_env_vars] section of the METplus configuration files. See the 'User Defined Config' section on the 'System Configuration' page of the METplus User's Guide for more information.\n\n.. highlight:: bash\n.. literalinclude:: ../../../../parm/met_config/STATAnalysisConfig_wrapped\n\nNote the following variables can be referenced in the MET configuration file.\nRefer to the MET Stat-Analysis Tool users guide for a further description of\nthese MET configuration file settings.\n\n* **${MODEL}** - Name of forecast input. Corresponds to MODEL_LIST = {MODEL<n>} in the METplus configuration file.\n* **${DESC}** - User specified Description field. Corresponds to DESC_LIST in the METplus configuration file.\n* **${FCST_LEAD}** - Forecast lead time.  Corresponds to FCST_LEAD_LIST in the METplus configuration file.\n* **${OBS_LEAD}** -  Observation lead time.  Corresponds to OBS_LEAD_LIST in the METplus configuration file.\n* **${FCST_VALID_BEG}** - Forecast valid begin time. Corresponds to VALID_BEG in the METplus configuration file.\n* **${FCST_VALID_END}** - Forecast valid end time. Corresponds to VALID_END in the METplus configuration file.\n* **${FCST_VALID_HOUR}** - Forecast valid hour. Corresponds to FCST_VALID_HOUR_LIST in the METplus configuration file.\n* **${OBS_VALID_BEG}** - Observation valid begin time. Corresponds to VALID_BEG in the METplus configuration file.\n* **${OBS_VALID_END}** - Observation valid end time. Corresponds to VALID_END in the METplus configuration file.\n* **${OBS_VALID_HOUR}** - Observation valid hour. Corresponds to OBS_VALID_HOUR_LIST in the METplus configuration file.\n* **${FCST_INIT_BEG}** - Forecast initialization begin time. Corresponds to INIT_BEG in the METplus configuration file.\n* **${FCST_INIT_END}** - Forecast initialization end time. Corresponds to INIT_END in the METplus configuration file.\n* **${FCST_INIT_HOUR}** - Forecast initialization hour time. Corresponds to FCST_INIT_HOUR_LIST in the METplus configuration file.\n* **${OBS_INIT_BEG}** - Observation initialization begin time. Corresponds to INIT_BEG in the METplus configuration file.\n* **${OBS_INIT_END}** - Observation initialization end time. Corresponds to INIT_END in the METplus configuration file.\n* **${OBS_INIT_HOUR}** - Observation initialization hour time. Corresponds to OBS_INIT_HOUR_LIST in the METplus configuration file.\n* **${FCST_VAR}** - Forecast variable type. Corresponds to FCST_VAR_LIST in the METplus configuration file.\n* **${OBS_VAR}** -  Observation variable type. Corresponds to OBS_VAR_LIST in the METplus configuration file.\n* **${FCST_UNITS}** - Forecast units. Corresponds to FCST_UNITS_LIST in the METplus configuration file.\n* **${OBS_UNITS}** - Observation units. Corresponds to OBS_UNITS_LIST in the METplus configuration file.\n* **${FCST_LEVEL}** - Forecast level type. Corresponds to FCST_LEVEL_LIST in the METplus configuration file.\n* **${OBS_LEVEL}** - Observation level type. Corresponds to OBS_LEVEL_LIST in the METplus configuration file.\n* **${OBTYPE}** -  Observation type. Corresponds to a MODEL<n>_OBTYPE  in the METplus configuration file.\n* **${VX_MASK}** - Verification masking regions. Corresponds to VX_MASK_LIST in the METplus configuration file.\n* **${INTERP_MTHD}** - Interpolation methods. Corresponds to INTERP_MTHD_LIST in the METplus configuration file.\n* **${INTERP_PNTS}** - Interpolation points. Corresponds to INTERP_PNTS_LIST in the METplus configuration file.\n* **${FCST_THRESH}** - Forecast threshold. Corresponds to FCST_THRESH_LIST in the METplus configuration file.\n* **${OBS_THRESH}** - Observation threshold. Corresponds to OBS_THRESH_LIST in the METplus configuration file.\n* **${COV_THRESH}** - Coverage threshold. Corresponds to COV_THRESH_LIST in the METplus configuration file.\n* **${ALPHA}** - Alpha confidence values. Corresponds to ALPHA_LIST in the METplus configuration file.\n* **${LINE_TYPE}** - Line types used for all analysis. Corresponds to LINE_TYPE_LIST in the METplus configuration file.\n* **${JOB}** - Analysis jobs to be performed. Corresponds to STAT_ANALYSIS_JOB_NAME, STAT_ANALYSIS_JOB_ARGS and MODEL<n>_STAT_ANALYSIS_DUMP_ROW_TEMPLATE in the METplus configuration file.\n\n"
      ]
    },
    {
      "cell_type": "markdown",
      "metadata": {},
      "source": [
        "Running METplus\n---------------\n\nIt is recommended to run this use case by:\n\nPassing in StatAnalysis_python_embedding.conf then a user-specific system configuration file::\n\n  master_metplus.py -c /path/to/StatAnalysis_python_embedding.conf -c /path/to/user_system.conf\n\nThe following METplus configuration variables must be set correctly to run this example.:\n\n* **INPUT_BASE** - Path to directory where sample data tarballs are unpacked (See Datasets section to obtain tarballs).\n* **OUTPUT_BASE** - Path where METplus output will be written. This must be in a location where you have write permissions\n* **MET_INSTALL_DIR** - Path to location where MET is installed locally\n\nExample User Configuration File::\n\n  [dir]\n  INPUT_BASE = /path/to/sample/input/data\n  OUTPUT_BASE = /path/to/output/dir\n  MET_INSTALL_DIR = /path/to/met-X.Y \n\n**NOTE:** All of these items must be found under the [dir] section.\n\n\n"
      ]
    },
    {
      "cell_type": "markdown",
      "metadata": {},
      "source": [
        "Expected Output\n---------------\n\nA successful run will output the following both to the screen and to the logfile::\n\n  INFO: METplus has successfully finished running.\n\nRefer to the value set for **OUTPUT_BASE** to find where the output data was generated.\nOutput for this use case will be found in met_tool_wrapper/StatAnalysis_python_embedding  (relative to **OUTPUT_BASE**)\nand will contain the following file:\n\n* WRF_ADPSFC_valid20050807_fcstvalidhour120000Z_out_stat.stat\n\n"
      ]
    },
    {
      "cell_type": "markdown",
      "metadata": {},
      "source": [
        "Keywords\n--------\n\n<div class=\"alert alert-info\"><h4>Note</h4><p></p></div>\n `StatAnalysisToolUseCase <https://dtcenter.github.io/METplus/search.html?q=StatAnalysisToolUseCase&check_keywords=yes&area=default>`_\n `PythonEmbeddingFileUseCase <https://dtcenter.github.io/METplus/search.html?q=PythonEmbeddingFileUseCase&check_keywords=yes&area=default>`_\n\n\n"
      ]
    },
    {
      "cell_type": "code",
      "execution_count": null,
      "metadata": {
        "collapsed": false
      },
      "outputs": [],
      "source": [
        ""
      ]
    }
  ],
  "metadata": {
    "kernelspec": {
      "display_name": "Python 3",
      "language": "python",
      "name": "python3"
    },
    "language_info": {
      "codemirror_mode": {
        "name": "ipython",
        "version": 3
      },
      "file_extension": ".py",
      "mimetype": "text/x-python",
      "name": "python",
      "nbconvert_exporter": "python",
      "pygments_lexer": "ipython3",
      "version": "3.6.10"
    }
  },
  "nbformat": 4,
  "nbformat_minor": 0
}